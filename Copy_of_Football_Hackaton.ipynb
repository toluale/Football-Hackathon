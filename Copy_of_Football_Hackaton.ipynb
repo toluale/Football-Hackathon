{
  "nbformat": 4,
  "nbformat_minor": 0,
  "metadata": {
    "colab": {
      "name": "Copy of Football Hackaton.ipynb",
      "provenance": []
    },
    "kernelspec": {
      "name": "python3",
      "display_name": "Python 3"
    },
    "language_info": {
      "name": "python"
    }
  },
  "cells": [
    {
      "cell_type": "code",
      "execution_count": null,
      "metadata": {
        "colab": {
          "base_uri": "https://localhost:8080/"
        },
        "id": "3waVda3uyB3S",
        "outputId": "304d58b9-e7ad-4734-e9f8-8257361687db"
      },
      "outputs": [
        {
          "output_type": "stream",
          "name": "stdout",
          "text": [
            "Mounted at /content/drive\n"
          ]
        }
      ],
      "source": [
        "from google.colab import drive\n",
        "drive.mount('/content/drive')"
      ]
    },
    {
      "cell_type": "code",
      "source": [
        "import pandas as pd\n",
        "import numpy as np\n",
        "import matplotlib.pyplot as plt\n",
        "%matplotlib inline\n",
        ""
      ],
      "metadata": {
        "id": "GEC5OM7WymTf"
      },
      "execution_count": null,
      "outputs": []
    },
    {
      "cell_type": "code",
      "source": [
        "df= pd.read_csv('/content/drive/My Drive/Football Hackton/train.csv')\n",
        "#test = pd.read_csv('/content/drive/My Drive/Football Hackton/test.csv')\n"
      ],
      "metadata": {
        "id": "0F0uwH7mzEDl"
      },
      "execution_count": null,
      "outputs": []
    },
    {
      "cell_type": "code",
      "source": [
        "df.head()"
      ],
      "metadata": {
        "colab": {
          "base_uri": "https://localhost:8080/",
          "height": 299
        },
        "id": "wIr07VwgzdVr",
        "outputId": "666cc724-e95b-4539-b095-703e49b5bae7"
      },
      "execution_count": null,
      "outputs": [
        {
          "output_type": "execute_result",
          "data": {
            "text/plain": [
              "   row_id  scout_id  rating_num  winner   team  competitionId  \\\n",
              "0       1        13         7.0  winner  team1              8   \n",
              "1       3        16         6.5   loser  team2              8   \n",
              "2       4         4         8.5   loser  team1              5   \n",
              "3       5        13         8.0   loser  team2              4   \n",
              "4       7        11         3.5    draw  team1              5   \n",
              "\n",
              "   player_position_1  player_position_2  player_height  player_weight  ...  \\\n",
              "0                7.0                7.0       0.317073           0.48  ...   \n",
              "1                3.0                9.0       0.463415           0.42  ...   \n",
              "2               11.0               11.0       0.682927           0.44  ...   \n",
              "3               17.0               17.0       0.682927           0.58  ...   \n",
              "4               10.0               10.0       0.731707           0.70  ...   \n",
              "\n",
              "   team2_defensive_derived_var_10  team2_offensive_derived_var_11  \\\n",
              "0                        0.193658                        0.131548   \n",
              "1                        0.190500                        0.173697   \n",
              "2                        0.312314                        0.250756   \n",
              "3                        0.282556                        0.155969   \n",
              "4                        0.450453                        0.199050   \n",
              "\n",
              "   team2_offensive_derived_var_12  team2_offensive_derived_var_13  \\\n",
              "0                        0.097131                        0.600944   \n",
              "1                        0.272801                        0.605659   \n",
              "2                        0.212631                        0.558833   \n",
              "3                        0.206503                        0.533002   \n",
              "4                        0.134002                        0.688773   \n",
              "\n",
              "   team2_offensive_derived_var_14  team2_defensive_derived_var_15  \\\n",
              "0                        0.338892                        0.347980   \n",
              "1                        0.526761                        0.468976   \n",
              "2                        0.686523                        0.441749   \n",
              "3                        0.373959                        0.527733   \n",
              "4                        0.681724                        0.733625   \n",
              "\n",
              "   team2_offensive_derived_var_16  team2_defensive_derived_var_17  \\\n",
              "0                        0.034157                        0.288962   \n",
              "1                        0.054034                        0.334962   \n",
              "2                        0.219441                        0.414288   \n",
              "3                        0.095201                        0.423040   \n",
              "4                        0.128719                        0.448360   \n",
              "\n",
              "   team2_offensive_derived_var_18  team2_offensive_derived_var_19  \n",
              "0                        0.310727                        0.204925  \n",
              "1                        0.380073                        0.295392  \n",
              "2                        0.570757                        0.437500  \n",
              "3                        0.330754                        0.235558  \n",
              "4                        0.444946                        0.312500  \n",
              "\n",
              "[5 rows x 800 columns]"
            ],
            "text/html": [
              "\n",
              "  <div id=\"df-51c3476e-a1c0-4988-8bef-90fa8da8f8ab\">\n",
              "    <div class=\"colab-df-container\">\n",
              "      <div>\n",
              "<style scoped>\n",
              "    .dataframe tbody tr th:only-of-type {\n",
              "        vertical-align: middle;\n",
              "    }\n",
              "\n",
              "    .dataframe tbody tr th {\n",
              "        vertical-align: top;\n",
              "    }\n",
              "\n",
              "    .dataframe thead th {\n",
              "        text-align: right;\n",
              "    }\n",
              "</style>\n",
              "<table border=\"1\" class=\"dataframe\">\n",
              "  <thead>\n",
              "    <tr style=\"text-align: right;\">\n",
              "      <th></th>\n",
              "      <th>row_id</th>\n",
              "      <th>scout_id</th>\n",
              "      <th>rating_num</th>\n",
              "      <th>winner</th>\n",
              "      <th>team</th>\n",
              "      <th>competitionId</th>\n",
              "      <th>player_position_1</th>\n",
              "      <th>player_position_2</th>\n",
              "      <th>player_height</th>\n",
              "      <th>player_weight</th>\n",
              "      <th>...</th>\n",
              "      <th>team2_defensive_derived_var_10</th>\n",
              "      <th>team2_offensive_derived_var_11</th>\n",
              "      <th>team2_offensive_derived_var_12</th>\n",
              "      <th>team2_offensive_derived_var_13</th>\n",
              "      <th>team2_offensive_derived_var_14</th>\n",
              "      <th>team2_defensive_derived_var_15</th>\n",
              "      <th>team2_offensive_derived_var_16</th>\n",
              "      <th>team2_defensive_derived_var_17</th>\n",
              "      <th>team2_offensive_derived_var_18</th>\n",
              "      <th>team2_offensive_derived_var_19</th>\n",
              "    </tr>\n",
              "  </thead>\n",
              "  <tbody>\n",
              "    <tr>\n",
              "      <th>0</th>\n",
              "      <td>1</td>\n",
              "      <td>13</td>\n",
              "      <td>7.0</td>\n",
              "      <td>winner</td>\n",
              "      <td>team1</td>\n",
              "      <td>8</td>\n",
              "      <td>7.0</td>\n",
              "      <td>7.0</td>\n",
              "      <td>0.317073</td>\n",
              "      <td>0.48</td>\n",
              "      <td>...</td>\n",
              "      <td>0.193658</td>\n",
              "      <td>0.131548</td>\n",
              "      <td>0.097131</td>\n",
              "      <td>0.600944</td>\n",
              "      <td>0.338892</td>\n",
              "      <td>0.347980</td>\n",
              "      <td>0.034157</td>\n",
              "      <td>0.288962</td>\n",
              "      <td>0.310727</td>\n",
              "      <td>0.204925</td>\n",
              "    </tr>\n",
              "    <tr>\n",
              "      <th>1</th>\n",
              "      <td>3</td>\n",
              "      <td>16</td>\n",
              "      <td>6.5</td>\n",
              "      <td>loser</td>\n",
              "      <td>team2</td>\n",
              "      <td>8</td>\n",
              "      <td>3.0</td>\n",
              "      <td>9.0</td>\n",
              "      <td>0.463415</td>\n",
              "      <td>0.42</td>\n",
              "      <td>...</td>\n",
              "      <td>0.190500</td>\n",
              "      <td>0.173697</td>\n",
              "      <td>0.272801</td>\n",
              "      <td>0.605659</td>\n",
              "      <td>0.526761</td>\n",
              "      <td>0.468976</td>\n",
              "      <td>0.054034</td>\n",
              "      <td>0.334962</td>\n",
              "      <td>0.380073</td>\n",
              "      <td>0.295392</td>\n",
              "    </tr>\n",
              "    <tr>\n",
              "      <th>2</th>\n",
              "      <td>4</td>\n",
              "      <td>4</td>\n",
              "      <td>8.5</td>\n",
              "      <td>loser</td>\n",
              "      <td>team1</td>\n",
              "      <td>5</td>\n",
              "      <td>11.0</td>\n",
              "      <td>11.0</td>\n",
              "      <td>0.682927</td>\n",
              "      <td>0.44</td>\n",
              "      <td>...</td>\n",
              "      <td>0.312314</td>\n",
              "      <td>0.250756</td>\n",
              "      <td>0.212631</td>\n",
              "      <td>0.558833</td>\n",
              "      <td>0.686523</td>\n",
              "      <td>0.441749</td>\n",
              "      <td>0.219441</td>\n",
              "      <td>0.414288</td>\n",
              "      <td>0.570757</td>\n",
              "      <td>0.437500</td>\n",
              "    </tr>\n",
              "    <tr>\n",
              "      <th>3</th>\n",
              "      <td>5</td>\n",
              "      <td>13</td>\n",
              "      <td>8.0</td>\n",
              "      <td>loser</td>\n",
              "      <td>team2</td>\n",
              "      <td>4</td>\n",
              "      <td>17.0</td>\n",
              "      <td>17.0</td>\n",
              "      <td>0.682927</td>\n",
              "      <td>0.58</td>\n",
              "      <td>...</td>\n",
              "      <td>0.282556</td>\n",
              "      <td>0.155969</td>\n",
              "      <td>0.206503</td>\n",
              "      <td>0.533002</td>\n",
              "      <td>0.373959</td>\n",
              "      <td>0.527733</td>\n",
              "      <td>0.095201</td>\n",
              "      <td>0.423040</td>\n",
              "      <td>0.330754</td>\n",
              "      <td>0.235558</td>\n",
              "    </tr>\n",
              "    <tr>\n",
              "      <th>4</th>\n",
              "      <td>7</td>\n",
              "      <td>11</td>\n",
              "      <td>3.5</td>\n",
              "      <td>draw</td>\n",
              "      <td>team1</td>\n",
              "      <td>5</td>\n",
              "      <td>10.0</td>\n",
              "      <td>10.0</td>\n",
              "      <td>0.731707</td>\n",
              "      <td>0.70</td>\n",
              "      <td>...</td>\n",
              "      <td>0.450453</td>\n",
              "      <td>0.199050</td>\n",
              "      <td>0.134002</td>\n",
              "      <td>0.688773</td>\n",
              "      <td>0.681724</td>\n",
              "      <td>0.733625</td>\n",
              "      <td>0.128719</td>\n",
              "      <td>0.448360</td>\n",
              "      <td>0.444946</td>\n",
              "      <td>0.312500</td>\n",
              "    </tr>\n",
              "  </tbody>\n",
              "</table>\n",
              "<p>5 rows × 800 columns</p>\n",
              "</div>\n",
              "      <button class=\"colab-df-convert\" onclick=\"convertToInteractive('df-51c3476e-a1c0-4988-8bef-90fa8da8f8ab')\"\n",
              "              title=\"Convert this dataframe to an interactive table.\"\n",
              "              style=\"display:none;\">\n",
              "        \n",
              "  <svg xmlns=\"http://www.w3.org/2000/svg\" height=\"24px\"viewBox=\"0 0 24 24\"\n",
              "       width=\"24px\">\n",
              "    <path d=\"M0 0h24v24H0V0z\" fill=\"none\"/>\n",
              "    <path d=\"M18.56 5.44l.94 2.06.94-2.06 2.06-.94-2.06-.94-.94-2.06-.94 2.06-2.06.94zm-11 1L8.5 8.5l.94-2.06 2.06-.94-2.06-.94L8.5 2.5l-.94 2.06-2.06.94zm10 10l.94 2.06.94-2.06 2.06-.94-2.06-.94-.94-2.06-.94 2.06-2.06.94z\"/><path d=\"M17.41 7.96l-1.37-1.37c-.4-.4-.92-.59-1.43-.59-.52 0-1.04.2-1.43.59L10.3 9.45l-7.72 7.72c-.78.78-.78 2.05 0 2.83L4 21.41c.39.39.9.59 1.41.59.51 0 1.02-.2 1.41-.59l7.78-7.78 2.81-2.81c.8-.78.8-2.07 0-2.86zM5.41 20L4 18.59l7.72-7.72 1.47 1.35L5.41 20z\"/>\n",
              "  </svg>\n",
              "      </button>\n",
              "      \n",
              "  <style>\n",
              "    .colab-df-container {\n",
              "      display:flex;\n",
              "      flex-wrap:wrap;\n",
              "      gap: 12px;\n",
              "    }\n",
              "\n",
              "    .colab-df-convert {\n",
              "      background-color: #E8F0FE;\n",
              "      border: none;\n",
              "      border-radius: 50%;\n",
              "      cursor: pointer;\n",
              "      display: none;\n",
              "      fill: #1967D2;\n",
              "      height: 32px;\n",
              "      padding: 0 0 0 0;\n",
              "      width: 32px;\n",
              "    }\n",
              "\n",
              "    .colab-df-convert:hover {\n",
              "      background-color: #E2EBFA;\n",
              "      box-shadow: 0px 1px 2px rgba(60, 64, 67, 0.3), 0px 1px 3px 1px rgba(60, 64, 67, 0.15);\n",
              "      fill: #174EA6;\n",
              "    }\n",
              "\n",
              "    [theme=dark] .colab-df-convert {\n",
              "      background-color: #3B4455;\n",
              "      fill: #D2E3FC;\n",
              "    }\n",
              "\n",
              "    [theme=dark] .colab-df-convert:hover {\n",
              "      background-color: #434B5C;\n",
              "      box-shadow: 0px 1px 3px 1px rgba(0, 0, 0, 0.15);\n",
              "      filter: drop-shadow(0px 1px 2px rgba(0, 0, 0, 0.3));\n",
              "      fill: #FFFFFF;\n",
              "    }\n",
              "  </style>\n",
              "\n",
              "      <script>\n",
              "        const buttonEl =\n",
              "          document.querySelector('#df-51c3476e-a1c0-4988-8bef-90fa8da8f8ab button.colab-df-convert');\n",
              "        buttonEl.style.display =\n",
              "          google.colab.kernel.accessAllowed ? 'block' : 'none';\n",
              "\n",
              "        async function convertToInteractive(key) {\n",
              "          const element = document.querySelector('#df-51c3476e-a1c0-4988-8bef-90fa8da8f8ab');\n",
              "          const dataTable =\n",
              "            await google.colab.kernel.invokeFunction('convertToInteractive',\n",
              "                                                     [key], {});\n",
              "          if (!dataTable) return;\n",
              "\n",
              "          const docLinkHtml = 'Like what you see? Visit the ' +\n",
              "            '<a target=\"_blank\" href=https://colab.research.google.com/notebooks/data_table.ipynb>data table notebook</a>'\n",
              "            + ' to learn more about interactive tables.';\n",
              "          element.innerHTML = '';\n",
              "          dataTable['output_type'] = 'display_data';\n",
              "          await google.colab.output.renderOutput(dataTable, element);\n",
              "          const docLink = document.createElement('div');\n",
              "          docLink.innerHTML = docLinkHtml;\n",
              "          element.appendChild(docLink);\n",
              "        }\n",
              "      </script>\n",
              "    </div>\n",
              "  </div>\n",
              "  "
            ]
          },
          "metadata": {},
          "execution_count": 4
        }
      ]
    },
    {
      "cell_type": "code",
      "source": [
        "df.info()"
      ],
      "metadata": {
        "colab": {
          "base_uri": "https://localhost:8080/"
        },
        "id": "JrKD1hs8B8T8",
        "outputId": "5ad39732-da3f-406f-b6b8-ecd03ee3ad52"
      },
      "execution_count": null,
      "outputs": [
        {
          "output_type": "stream",
          "name": "stdout",
          "text": [
            "<class 'pandas.core.frame.DataFrame'>\n",
            "RangeIndex: 20453 entries, 0 to 20452\n",
            "Columns: 800 entries, row_id to team2_offensive_derived_var_19\n",
            "dtypes: float64(794), int64(4), object(2)\n",
            "memory usage: 124.8+ MB\n"
          ]
        }
      ]
    },
    {
      "cell_type": "code",
      "source": [
        "df.shape"
      ],
      "metadata": {
        "colab": {
          "base_uri": "https://localhost:8080/"
        },
        "id": "iFL0ccE3DjgO",
        "outputId": "76d0a57d-d7f6-459a-a866-2d1d41cfe15a"
      },
      "execution_count": null,
      "outputs": [
        {
          "output_type": "execute_result",
          "data": {
            "text/plain": [
              "(20453, 800)"
            ]
          },
          "metadata": {},
          "execution_count": 6
        }
      ]
    },
    {
      "cell_type": "markdown",
      "source": [
        "Distribution of the target coulmn (rating_num)"
      ],
      "metadata": {
        "id": "6sf81_E4vVvR"
      }
    },
    {
      "cell_type": "code",
      "source": [
        "plt.figure(figsize=(10,7))\n",
        "df['rating_num'].hist(bins=10)"
      ],
      "metadata": {
        "colab": {
          "base_uri": "https://localhost:8080/",
          "height": 446
        },
        "id": "4AkaW9JVJ_R5",
        "outputId": "5b01a775-299f-423f-cb9d-671cc4ad0bc2"
      },
      "execution_count": null,
      "outputs": [
        {
          "output_type": "execute_result",
          "data": {
            "text/plain": [
              "<matplotlib.axes._subplots.AxesSubplot at 0x7f0e24770190>"
            ]
          },
          "metadata": {},
          "execution_count": 7
        },
        {
          "output_type": "display_data",
          "data": {
            "text/plain": [
              "<Figure size 720x504 with 1 Axes>"
            ],
            "image/png": "[encoded data removed]"
          },
          "metadata": {
            "needs_background": "light"
          }
        }
      ]
    },
    {
      "cell_type": "markdown",
      "source": [
        "Visualizing the outliers using boxplot"
      ],
      "metadata": {
        "id": "h7TRe-Mxvoi_"
      }
    },
    {
      "cell_type": "code",
      "source": [
        "import seaborn as sns\n",
        "\n",
        "plt.figure(figsize=(15, 10))\n",
        "sns.boxplot(x = 'team', y = 'rating_num', data = df)\n",
        "plt.xlabel('Team')\n",
        "plt.ylabel('Rating')\n",
        "plt.show()"
      ],
      "metadata": {
        "colab": {
          "base_uri": "https://localhost:8080/",
          "height": 606
        },
        "id": "IpFpauU-LRXp",
        "outputId": "9703f296-c7c4-480a-9850-267e26cf8e2c"
      },
      "execution_count": null,
      "outputs": [
        {
          "output_type": "display_data",
          "data": {
            "text/plain": [
              "<Figure size 1080x720 with 1 Axes>"
            ],
            "image/png": "[encoded data removed]"
          },
          "metadata": {
            "needs_background": "light"
          }
        }
      ]
    },
    {
      "cell_type": "code",
      "source": [
        "low_rating = df[df['rating_num']<3]\n",
        "low_rating['rating_num'].count()"
      ],
      "metadata": {
        "colab": {
          "base_uri": "https://localhost:8080/"
        },
        "id": "acwuXUZqP4vJ",
        "outputId": "1ebfd74b-0161-4121-eedb-a09dbdbc1e35"
      },
      "execution_count": null,
      "outputs": [
        {
          "output_type": "execute_result",
          "data": {
            "text/plain": [
              "267"
            ]
          },
          "metadata": {},
          "execution_count": 9
        }
      ]
    },
    {
      "cell_type": "code",
      "source": [
        "df= df.loc[(df['rating_num']>=3)]\n",
        "df.reset_index(drop=True, inplace=True)\n",
        "df.shape"
      ],
      "metadata": {
        "colab": {
          "base_uri": "https://localhost:8080/"
        },
        "id": "cqT9XERRQVDV",
        "outputId": "1e673c8a-151a-4db6-8bf4-00d380d1758e"
      },
      "execution_count": null,
      "outputs": [
        {
          "output_type": "execute_result",
          "data": {
            "text/plain": [
              "(20186, 800)"
            ]
          },
          "metadata": {},
          "execution_count": 10
        }
      ]
    },
    {
      "cell_type": "code",
      "source": [
        "plt.figure(figsize=(15, 10))\n",
        "sns.boxplot(x = 'team', y = 'rating_num', data = df)\n",
        "plt.xlabel('Team')\n",
        "plt.ylabel('Rating')\n",
        "plt.show()"
      ],
      "metadata": {
        "colab": {
          "base_uri": "https://localhost:8080/",
          "height": 606
        },
        "id": "jeCHifAoRWvZ",
        "outputId": "a40e12c9-12ef-496e-b5ea-be59e260861f"
      },
      "execution_count": null,
      "outputs": [
        {
          "output_type": "display_data",
          "data": {
            "text/plain": [
              "<Figure size 1080x720 with 1 Axes>"
            ],
            "image/png": "[encoded data removed]"
          },
          "metadata": {
            "needs_background": "light"
          }
        }
      ]
    },
    {
      "cell_type": "code",
      "source": [
        "df['rating_num'].isna().sum()\n",
        "df['team'].value_counts()"
      ],
      "metadata": {
        "colab": {
          "base_uri": "https://localhost:8080/"
        },
        "id": "nGf85XfBSCCM",
        "outputId": "3c816eeb-d7ca-4b3f-f973-68f2be09eedd"
      },
      "execution_count": null,
      "outputs": [
        {
          "output_type": "execute_result",
          "data": {
            "text/plain": [
              "team1    10161\n",
              "team2    10025\n",
              "Name: team, dtype: int64"
            ]
          },
          "metadata": {},
          "execution_count": 12
        }
      ]
    },
    {
      "cell_type": "markdown",
      "source": [
        "Visualizing relationship between 2 features \"player_position_1\" and \"player_position_2\""
      ],
      "metadata": {
        "id": "N0Yu8iOyvyVA"
      }
    },
    {
      "cell_type": "code",
      "source": [
        "plt.figure(figsize=(10,7))\n",
        "df['player_position_1'].hist(bins=20)\n",
        "#df['player_position_2'].hist(bins=10)"
      ],
      "metadata": {
        "colab": {
          "base_uri": "https://localhost:8080/",
          "height": 446
        },
        "id": "Jd0U1leESPO6",
        "outputId": "0d06babc-bbd0-4afb-a281-2a12314d6cee"
      },
      "execution_count": null,
      "outputs": [
        {
          "output_type": "execute_result",
          "data": {
            "text/plain": [
              "<matplotlib.axes._subplots.AxesSubplot at 0x7f0e2449dfd0>"
            ]
          },
          "metadata": {},
          "execution_count": 13
        },
        {
          "output_type": "display_data",
          "data": {
            "text/plain": [
              "<Figure size 720x504 with 1 Axes>"
            ],
            "image/png": "[encoded data removed]"
          },
          "metadata": {
            "needs_background": "light"
          }
        }
      ]
    },
    {
      "cell_type": "code",
      "source": [
        "plt.figure(figsize=(10,7))\n",
        "#df['player_position_1'].hist(bins=20)\n",
        "df['player_position_2'].hist(bins=20)"
      ],
      "metadata": {
        "colab": {
          "base_uri": "https://localhost:8080/",
          "height": 446
        },
        "id": "Kk2L46pvWnEi",
        "outputId": "77ed003e-846c-4a6a-9f14-69d086bd17d7"
      },
      "execution_count": null,
      "outputs": [
        {
          "output_type": "execute_result",
          "data": {
            "text/plain": [
              "<matplotlib.axes._subplots.AxesSubplot at 0x7f0e24690e10>"
            ]
          },
          "metadata": {},
          "execution_count": 14
        },
        {
          "output_type": "display_data",
          "data": {
            "text/plain": [
              "<Figure size 720x504 with 1 Axes>"
            ],
            "image/png": "[encoded data removed]"
          },
          "metadata": {
            "needs_background": "light"
          }
        }
      ]
    },
    {
      "cell_type": "code",
      "source": [
        "df['winner'].value_counts()"
      ],
      "metadata": {
        "colab": {
          "base_uri": "https://localhost:8080/"
        },
        "id": "v_BSKcjYYBZC",
        "outputId": "6f0e8fd8-36c9-4d74-c7ea-adbe466c57e2"
      },
      "execution_count": null,
      "outputs": [
        {
          "output_type": "execute_result",
          "data": {
            "text/plain": [
              "winner    8665\n",
              "loser     6288\n",
              "draw      5233\n",
              "Name: winner, dtype: int64"
            ]
          },
          "metadata": {},
          "execution_count": 15
        }
      ]
    },
    {
      "cell_type": "code",
      "source": [
        "df['team'].value_counts()"
      ],
      "metadata": {
        "colab": {
          "base_uri": "https://localhost:8080/"
        },
        "id": "gVSktVe3YQf6",
        "outputId": "8486ecfc-1eaa-464a-b6de-1b88e07c94f7"
      },
      "execution_count": null,
      "outputs": [
        {
          "output_type": "execute_result",
          "data": {
            "text/plain": [
              "team1    10161\n",
              "team2    10025\n",
              "Name: team, dtype: int64"
            ]
          },
          "metadata": {},
          "execution_count": 16
        }
      ]
    },
    {
      "cell_type": "code",
      "source": [
        "plt.figure(figsize = (10,7))\n",
        "\n",
        "plt.subplot(2,2,1)\n",
        "sns.scatterplot(data = df, x='player_position_1', y='player_position_2')\n",
        "plt.title('Player')\n",
        "plt.xlabel('Position 1')\n",
        "plt.ylabel('Posotion 2')\n",
        "plt.show()\n",
        "\n",
        "plt.figure(figsize = (10,7))\n",
        "plt.subplot(2,2,2)\n",
        "sns.scatterplot(data = df, x='player_height', y='player_weight')\n",
        "plt.title('Player')\n",
        "plt.xlabel('Height')\n",
        "plt.ylabel('Weight')\n",
        "plt.show()\n",
        "\n",
        "plt.figure(figsize = (10,7))\n",
        "plt.subplot(2,2,3)\n",
        "sns.scatterplot(data = df, x='scout_id', y='rating_num')\n",
        "plt.title('Scout_ID/Rating_num')\n",
        "plt.xlabel('Scout ID')\n",
        "plt.ylabel('Rating Num')\n",
        "plt.show()"
      ],
      "metadata": {
        "colab": {
          "base_uri": "https://localhost:8080/",
          "height": 719
        },
        "id": "vnFWD-RVYxg4",
        "outputId": "6658f658-ae34-45c9-db1e-2b53807d38b6"
      },
      "execution_count": null,
      "outputs": [
        {
          "output_type": "display_data",
          "data": {
            "text/plain": [
              "<Figure size 720x504 with 1 Axes>"
            ],
            "image/png": "[encoded data removed]"
          },
          "metadata": {
            "needs_background": "light"
          }
        },
        {
          "output_type": "display_data",
          "data": {
            "text/plain": [
              "<Figure size 720x504 with 1 Axes>"
            ],
            "image/png": "[encoded data removed]"
          },
          "metadata": {
            "needs_background": "light"
          }
        },
        {
          "output_type": "display_data",
          "data": {
            "text/plain": [
              "<Figure size 720x504 with 1 Axes>"
            ],
            "image/png": "[encoded data removed]"
          },
          "metadata": {
            "needs_background": "light"
          }
        }
      ]
    },
    {
      "cell_type": "markdown",
      "source": [
        "Creating a table for features with number datatypes"
      ],
      "metadata": {
        "id": "UVwZ_7WpwS3N"
      }
    },
    {
      "cell_type": "code",
      "source": [
        "dfA= df.select_dtypes(include=[np.number])"
      ],
      "metadata": {
        "id": "rSYoL0nbFMpH"
      },
      "execution_count": null,
      "outputs": []
    },
    {
      "cell_type": "code",
      "source": [
        "dfA"
      ],
      "metadata": {
        "id": "1mUiL6MoFXym",
        "colab": {
          "base_uri": "https://localhost:8080/",
          "height": 488
        },
        "outputId": "f5e66233-9435-4085-bc00-b566c8a3ab82"
      },
      "execution_count": null,
      "outputs": [
        {
          "output_type": "execute_result",
          "data": {
            "text/plain": [
              "       row_id  scout_id  rating_num  competitionId  player_position_1  \\\n",
              "0           1        13         7.0              8                7.0   \n",
              "1           3        16         6.5              8                3.0   \n",
              "2           4         4         8.5              5               11.0   \n",
              "3           5        13         8.0              4               17.0   \n",
              "4           7        11         3.5              5               10.0   \n",
              "...       ...       ...         ...            ...                ...   \n",
              "20181   29221        14         5.0             14                NaN   \n",
              "20182   29223         3         6.0             11                4.0   \n",
              "20183   29224         4         5.0              7                5.0   \n",
              "20184   29226        13         6.0              8                5.0   \n",
              "20185   29227         4         6.0              4                4.0   \n",
              "\n",
              "       player_position_2  player_height  player_weight  player_general_var_0  \\\n",
              "0                    7.0       0.317073           0.48                   0.0   \n",
              "1                    9.0       0.463415           0.42                   0.0   \n",
              "2                   11.0       0.682927           0.44                   0.0   \n",
              "3                   17.0       0.682927           0.58                   0.0   \n",
              "4                   10.0       0.731707           0.70                   0.0   \n",
              "...                  ...            ...            ...                   ...   \n",
              "20181                NaN       0.439024           0.26                   0.0   \n",
              "20182                4.0       0.390244           0.32                   0.0   \n",
              "20183                5.0       0.268293           0.30                   0.0   \n",
              "20184                5.0       0.463415           0.46                   0.0   \n",
              "20185                4.0       0.585366           0.36                   0.0   \n",
              "\n",
              "       player_general_var_1  ...  team2_defensive_derived_var_10  \\\n",
              "0                         0  ...                        0.193658   \n",
              "1                         0  ...                        0.190500   \n",
              "2                         0  ...                        0.312314   \n",
              "3                         0  ...                        0.282556   \n",
              "4                         0  ...                        0.450453   \n",
              "...                     ...  ...                             ...   \n",
              "20181                     0  ...                             NaN   \n",
              "20182                     0  ...                        0.362193   \n",
              "20183                     0  ...                        0.341322   \n",
              "20184                     0  ...                        0.215831   \n",
              "20185                     1  ...                        0.404569   \n",
              "\n",
              "       team2_offensive_derived_var_11  team2_offensive_derived_var_12  \\\n",
              "0                            0.131548                        0.097131   \n",
              "1                            0.173697                        0.272801   \n",
              "2                            0.250756                        0.212631   \n",
              "3                            0.155969                        0.206503   \n",
              "4                            0.199050                        0.134002   \n",
              "...                               ...                             ...   \n",
              "20181                             NaN                             NaN   \n",
              "20182                        0.240326                        0.369752   \n",
              "20183                        0.248870                        0.240096   \n",
              "20184                        0.190395                        0.207007   \n",
              "20185                        0.229025                        0.138451   \n",
              "\n",
              "       team2_offensive_derived_var_13  team2_offensive_derived_var_14  \\\n",
              "0                            0.600944                        0.338892   \n",
              "1                            0.605659                        0.526761   \n",
              "2                            0.558833                        0.686523   \n",
              "3                            0.533002                        0.373959   \n",
              "4                            0.688773                        0.681724   \n",
              "...                               ...                             ...   \n",
              "20181                             NaN                             NaN   \n",
              "20182                        0.438649                        0.381099   \n",
              "20183                        0.515025                        0.694587   \n",
              "20184                        0.631279                        0.330606   \n",
              "20185                        0.746928                        0.512851   \n",
              "\n",
              "       team2_defensive_derived_var_15  team2_offensive_derived_var_16  \\\n",
              "0                            0.347980                        0.034157   \n",
              "1                            0.468976                        0.054034   \n",
              "2                            0.441749                        0.219441   \n",
              "3                            0.527733                        0.095201   \n",
              "4                            0.733625                        0.128719   \n",
              "...                               ...                             ...   \n",
              "20181                             NaN                             NaN   \n",
              "20182                        0.264074                        0.171927   \n",
              "20183                        0.869000                        0.296820   \n",
              "20184                        0.322158                        0.108018   \n",
              "20185                        0.544212                        0.086429   \n",
              "\n",
              "       team2_defensive_derived_var_17  team2_offensive_derived_var_18  \\\n",
              "0                            0.288962                        0.310727   \n",
              "1                            0.334962                        0.380073   \n",
              "2                            0.414288                        0.570757   \n",
              "3                            0.423040                        0.330754   \n",
              "4                            0.448360                        0.444946   \n",
              "...                               ...                             ...   \n",
              "20181                             NaN                             NaN   \n",
              "20182                        0.422975                        0.588501   \n",
              "20183                        0.511550                        0.548315   \n",
              "20184                        0.333229                        0.349177   \n",
              "20185                        0.446098                        0.347572   \n",
              "\n",
              "       team2_offensive_derived_var_19  \n",
              "0                            0.204925  \n",
              "1                            0.295392  \n",
              "2                            0.437500  \n",
              "3                            0.235558  \n",
              "4                            0.312500  \n",
              "...                               ...  \n",
              "20181                             NaN  \n",
              "20182                        0.534694  \n",
              "20183                        0.385927  \n",
              "20184                        0.458685  \n",
              "20185                        0.329782  \n",
              "\n",
              "[20186 rows x 798 columns]"
            ],
            "text/html": [
              "\n",
              "  <div id=\"df-2233d39a-e510-4e47-94a6-5f8a2b63cab5\">\n",
              "    <div class=\"colab-df-container\">\n",
              "      <div>\n",
              "<style scoped>\n",
              "    .dataframe tbody tr th:only-of-type {\n",
              "        vertical-align: middle;\n",
              "    }\n",
              "\n",
              "    .dataframe tbody tr th {\n",
              "        vertical-align: top;\n",
              "    }\n",
              "\n",
              "    .dataframe thead th {\n",
              "        text-align: right;\n",
              "    }\n",
              "</style>\n",
              "<table border=\"1\" class=\"dataframe\">\n",
              "  <thead>\n",
              "    <tr style=\"text-align: right;\">\n",
              "      <th></th>\n",
              "      <th>row_id</th>\n",
              "      <th>scout_id</th>\n",
              "      <th>rating_num</th>\n",
              "      <th>competitionId</th>\n",
              "      <th>player_position_1</th>\n",
              "      <th>player_position_2</th>\n",
              "      <th>player_height</th>\n",
              "      <th>player_weight</th>\n",
              "      <th>player_general_var_0</th>\n",
              "      <th>player_general_var_1</th>\n",
              "      <th>...</th>\n",
              "      <th>team2_defensive_derived_var_10</th>\n",
              "      <th>team2_offensive_derived_var_11</th>\n",
              "      <th>team2_offensive_derived_var_12</th>\n",
              "      <th>team2_offensive_derived_var_13</th>\n",
              "      <th>team2_offensive_derived_var_14</th>\n",
              "      <th>team2_defensive_derived_var_15</th>\n",
              "      <th>team2_offensive_derived_var_16</th>\n",
              "      <th>team2_defensive_derived_var_17</th>\n",
              "      <th>team2_offensive_derived_var_18</th>\n",
              "      <th>team2_offensive_derived_var_19</th>\n",
              "    </tr>\n",
              "  </thead>\n",
              "  <tbody>\n",
              "    <tr>\n",
              "      <th>0</th>\n",
              "      <td>1</td>\n",
              "      <td>13</td>\n",
              "      <td>7.0</td>\n",
              "      <td>8</td>\n",
              "      <td>7.0</td>\n",
              "      <td>7.0</td>\n",
              "      <td>0.317073</td>\n",
              "      <td>0.48</td>\n",
              "      <td>0.0</td>\n",
              "      <td>0</td>\n",
              "      <td>...</td>\n",
              "      <td>0.193658</td>\n",
              "      <td>0.131548</td>\n",
              "      <td>0.097131</td>\n",
              "      <td>0.600944</td>\n",
              "      <td>0.338892</td>\n",
              "      <td>0.347980</td>\n",
              "      <td>0.034157</td>\n",
              "      <td>0.288962</td>\n",
              "      <td>0.310727</td>\n",
              "      <td>0.204925</td>\n",
              "    </tr>\n",
              "    <tr>\n",
              "      <th>1</th>\n",
              "      <td>3</td>\n",
              "      <td>16</td>\n",
              "      <td>6.5</td>\n",
              "      <td>8</td>\n",
              "      <td>3.0</td>\n",
              "      <td>9.0</td>\n",
              "      <td>0.463415</td>\n",
              "      <td>0.42</td>\n",
              "      <td>0.0</td>\n",
              "      <td>0</td>\n",
              "      <td>...</td>\n",
              "      <td>0.190500</td>\n",
              "      <td>0.173697</td>\n",
              "      <td>0.272801</td>\n",
              "      <td>0.605659</td>\n",
              "      <td>0.526761</td>\n",
              "      <td>0.468976</td>\n",
              "      <td>0.054034</td>\n",
              "      <td>0.334962</td>\n",
              "      <td>0.380073</td>\n",
              "      <td>0.295392</td>\n",
              "    </tr>\n",
              "    <tr>\n",
              "      <th>2</th>\n",
              "      <td>4</td>\n",
              "      <td>4</td>\n",
              "      <td>8.5</td>\n",
              "      <td>5</td>\n",
              "      <td>11.0</td>\n",
              "      <td>11.0</td>\n",
              "      <td>0.682927</td>\n",
              "      <td>0.44</td>\n",
              "      <td>0.0</td>\n",
              "      <td>0</td>\n",
              "      <td>...</td>\n",
              "      <td>0.312314</td>\n",
              "      <td>0.250756</td>\n",
              "      <td>0.212631</td>\n",
              "      <td>0.558833</td>\n",
              "      <td>0.686523</td>\n",
              "      <td>0.441749</td>\n",
              "      <td>0.219441</td>\n",
              "      <td>0.414288</td>\n",
              "      <td>0.570757</td>\n",
              "      <td>0.437500</td>\n",
              "    </tr>\n",
              "    <tr>\n",
              "      <th>3</th>\n",
              "      <td>5</td>\n",
              "      <td>13</td>\n",
              "      <td>8.0</td>\n",
              "      <td>4</td>\n",
              "      <td>17.0</td>\n",
              "      <td>17.0</td>\n",
              "      <td>0.682927</td>\n",
              "      <td>0.58</td>\n",
              "      <td>0.0</td>\n",
              "      <td>0</td>\n",
              "      <td>...</td>\n",
              "      <td>0.282556</td>\n",
              "      <td>0.155969</td>\n",
              "      <td>0.206503</td>\n",
              "      <td>0.533002</td>\n",
              "      <td>0.373959</td>\n",
              "      <td>0.527733</td>\n",
              "      <td>0.095201</td>\n",
              "      <td>0.423040</td>\n",
              "      <td>0.330754</td>\n",
              "      <td>0.235558</td>\n",
              "    </tr>\n",
              "    <tr>\n",
              "      <th>4</th>\n",
              "      <td>7</td>\n",
              "      <td>11</td>\n",
              "      <td>3.5</td>\n",
              "      <td>5</td>\n",
              "      <td>10.0</td>\n",
              "      <td>10.0</td>\n",
              "      <td>0.731707</td>\n",
              "      <td>0.70</td>\n",
              "      <td>0.0</td>\n",
              "      <td>0</td>\n",
              "      <td>...</td>\n",
              "      <td>0.450453</td>\n",
              "      <td>0.199050</td>\n",
              "      <td>0.134002</td>\n",
              "      <td>0.688773</td>\n",
              "      <td>0.681724</td>\n",
              "      <td>0.733625</td>\n",
              "      <td>0.128719</td>\n",
              "      <td>0.448360</td>\n",
              "      <td>0.444946</td>\n",
              "      <td>0.312500</td>\n",
              "    </tr>\n",
              "    <tr>\n",
              "      <th>...</th>\n",
              "      <td>...</td>\n",
              "      <td>...</td>\n",
              "      <td>...</td>\n",
              "      <td>...</td>\n",
              "      <td>...</td>\n",
              "      <td>...</td>\n",
              "      <td>...</td>\n",
              "      <td>...</td>\n",
              "      <td>...</td>\n",
              "      <td>...</td>\n",
              "      <td>...</td>\n",
              "      <td>...</td>\n",
              "      <td>...</td>\n",
              "      <td>...</td>\n",
              "      <td>...</td>\n",
              "      <td>...</td>\n",
              "      <td>...</td>\n",
              "      <td>...</td>\n",
              "      <td>...</td>\n",
              "      <td>...</td>\n",
              "      <td>...</td>\n",
              "    </tr>\n",
              "    <tr>\n",
              "      <th>20181</th>\n",
              "      <td>29221</td>\n",
              "      <td>14</td>\n",
              "      <td>5.0</td>\n",
              "      <td>14</td>\n",
              "      <td>NaN</td>\n",
              "      <td>NaN</td>\n",
              "      <td>0.439024</td>\n",
              "      <td>0.26</td>\n",
              "      <td>0.0</td>\n",
              "      <td>0</td>\n",
              "      <td>...</td>\n",
              "      <td>NaN</td>\n",
              "      <td>NaN</td>\n",
              "      <td>NaN</td>\n",
              "      <td>NaN</td>\n",
              "      <td>NaN</td>\n",
              "      <td>NaN</td>\n",
              "      <td>NaN</td>\n",
              "      <td>NaN</td>\n",
              "      <td>NaN</td>\n",
              "      <td>NaN</td>\n",
              "    </tr>\n",
              "    <tr>\n",
              "      <th>20182</th>\n",
              "      <td>29223</td>\n",
              "      <td>3</td>\n",
              "      <td>6.0</td>\n",
              "      <td>11</td>\n",
              "      <td>4.0</td>\n",
              "      <td>4.0</td>\n",
              "      <td>0.390244</td>\n",
              "      <td>0.32</td>\n",
              "      <td>0.0</td>\n",
              "      <td>0</td>\n",
              "      <td>...</td>\n",
              "      <td>0.362193</td>\n",
              "      <td>0.240326</td>\n",
              "      <td>0.369752</td>\n",
              "      <td>0.438649</td>\n",
              "      <td>0.381099</td>\n",
              "      <td>0.264074</td>\n",
              "      <td>0.171927</td>\n",
              "      <td>0.422975</td>\n",
              "      <td>0.588501</td>\n",
              "      <td>0.534694</td>\n",
              "    </tr>\n",
              "    <tr>\n",
              "      <th>20183</th>\n",
              "      <td>29224</td>\n",
              "      <td>4</td>\n",
              "      <td>5.0</td>\n",
              "      <td>7</td>\n",
              "      <td>5.0</td>\n",
              "      <td>5.0</td>\n",
              "      <td>0.268293</td>\n",
              "      <td>0.30</td>\n",
              "      <td>0.0</td>\n",
              "      <td>0</td>\n",
              "      <td>...</td>\n",
              "      <td>0.341322</td>\n",
              "      <td>0.248870</td>\n",
              "      <td>0.240096</td>\n",
              "      <td>0.515025</td>\n",
              "      <td>0.694587</td>\n",
              "      <td>0.869000</td>\n",
              "      <td>0.296820</td>\n",
              "      <td>0.511550</td>\n",
              "      <td>0.548315</td>\n",
              "      <td>0.385927</td>\n",
              "    </tr>\n",
              "    <tr>\n",
              "      <th>20184</th>\n",
              "      <td>29226</td>\n",
              "      <td>13</td>\n",
              "      <td>6.0</td>\n",
              "      <td>8</td>\n",
              "      <td>5.0</td>\n",
              "      <td>5.0</td>\n",
              "      <td>0.463415</td>\n",
              "      <td>0.46</td>\n",
              "      <td>0.0</td>\n",
              "      <td>0</td>\n",
              "      <td>...</td>\n",
              "      <td>0.215831</td>\n",
              "      <td>0.190395</td>\n",
              "      <td>0.207007</td>\n",
              "      <td>0.631279</td>\n",
              "      <td>0.330606</td>\n",
              "      <td>0.322158</td>\n",
              "      <td>0.108018</td>\n",
              "      <td>0.333229</td>\n",
              "      <td>0.349177</td>\n",
              "      <td>0.458685</td>\n",
              "    </tr>\n",
              "    <tr>\n",
              "      <th>20185</th>\n",
              "      <td>29227</td>\n",
              "      <td>4</td>\n",
              "      <td>6.0</td>\n",
              "      <td>4</td>\n",
              "      <td>4.0</td>\n",
              "      <td>4.0</td>\n",
              "      <td>0.585366</td>\n",
              "      <td>0.36</td>\n",
              "      <td>0.0</td>\n",
              "      <td>1</td>\n",
              "      <td>...</td>\n",
              "      <td>0.404569</td>\n",
              "      <td>0.229025</td>\n",
              "      <td>0.138451</td>\n",
              "      <td>0.746928</td>\n",
              "      <td>0.512851</td>\n",
              "      <td>0.544212</td>\n",
              "      <td>0.086429</td>\n",
              "      <td>0.446098</td>\n",
              "      <td>0.347572</td>\n",
              "      <td>0.329782</td>\n",
              "    </tr>\n",
              "  </tbody>\n",
              "</table>\n",
              "<p>20186 rows × 798 columns</p>\n",
              "</div>\n",
              "      <button class=\"colab-df-convert\" onclick=\"convertToInteractive('df-2233d39a-e510-4e47-94a6-5f8a2b63cab5')\"\n",
              "              title=\"Convert this dataframe to an interactive table.\"\n",
              "              style=\"display:none;\">\n",
              "        \n",
              "  <svg xmlns=\"http://www.w3.org/2000/svg\" height=\"24px\"viewBox=\"0 0 24 24\"\n",
              "       width=\"24px\">\n",
              "    <path d=\"M0 0h24v24H0V0z\" fill=\"none\"/>\n",
              "    <path d=\"M18.56 5.44l.94 2.06.94-2.06 2.06-.94-2.06-.94-.94-2.06-.94 2.06-2.06.94zm-11 1L8.5 8.5l.94-2.06 2.06-.94-2.06-.94L8.5 2.5l-.94 2.06-2.06.94zm10 10l.94 2.06.94-2.06 2.06-.94-2.06-.94-.94-2.06-.94 2.06-2.06.94z\"/><path d=\"M17.41 7.96l-1.37-1.37c-.4-.4-.92-.59-1.43-.59-.52 0-1.04.2-1.43.59L10.3 9.45l-7.72 7.72c-.78.78-.78 2.05 0 2.83L4 21.41c.39.39.9.59 1.41.59.51 0 1.02-.2 1.41-.59l7.78-7.78 2.81-2.81c.8-.78.8-2.07 0-2.86zM5.41 20L4 18.59l7.72-7.72 1.47 1.35L5.41 20z\"/>\n",
              "  </svg>\n",
              "      </button>\n",
              "      \n",
              "  <style>\n",
              "    .colab-df-container {\n",
              "      display:flex;\n",
              "      flex-wrap:wrap;\n",
              "      gap: 12px;\n",
              "    }\n",
              "\n",
              "    .colab-df-convert {\n",
              "      background-color: #E8F0FE;\n",
              "      border: none;\n",
              "      border-radius: 50%;\n",
              "      cursor: pointer;\n",
              "      display: none;\n",
              "      fill: #1967D2;\n",
              "      height: 32px;\n",
              "      padding: 0 0 0 0;\n",
              "      width: 32px;\n",
              "    }\n",
              "\n",
              "    .colab-df-convert:hover {\n",
              "      background-color: #E2EBFA;\n",
              "      box-shadow: 0px 1px 2px rgba(60, 64, 67, 0.3), 0px 1px 3px 1px rgba(60, 64, 67, 0.15);\n",
              "      fill: #174EA6;\n",
              "    }\n",
              "\n",
              "    [theme=dark] .colab-df-convert {\n",
              "      background-color: #3B4455;\n",
              "      fill: #D2E3FC;\n",
              "    }\n",
              "\n",
              "    [theme=dark] .colab-df-convert:hover {\n",
              "      background-color: #434B5C;\n",
              "      box-shadow: 0px 1px 3px 1px rgba(0, 0, 0, 0.15);\n",
              "      filter: drop-shadow(0px 1px 2px rgba(0, 0, 0, 0.3));\n",
              "      fill: #FFFFFF;\n",
              "    }\n",
              "  </style>\n",
              "\n",
              "      <script>\n",
              "        const buttonEl =\n",
              "          document.querySelector('#df-2233d39a-e510-4e47-94a6-5f8a2b63cab5 button.colab-df-convert');\n",
              "        buttonEl.style.display =\n",
              "          google.colab.kernel.accessAllowed ? 'block' : 'none';\n",
              "\n",
              "        async function convertToInteractive(key) {\n",
              "          const element = document.querySelector('#df-2233d39a-e510-4e47-94a6-5f8a2b63cab5');\n",
              "          const dataTable =\n",
              "            await google.colab.kernel.invokeFunction('convertToInteractive',\n",
              "                                                     [key], {});\n",
              "          if (!dataTable) return;\n",
              "\n",
              "          const docLinkHtml = 'Like what you see? Visit the ' +\n",
              "            '<a target=\"_blank\" href=https://colab.research.google.com/notebooks/data_table.ipynb>data table notebook</a>'\n",
              "            + ' to learn more about interactive tables.';\n",
              "          element.innerHTML = '';\n",
              "          dataTable['output_type'] = 'display_data';\n",
              "          await google.colab.output.renderOutput(dataTable, element);\n",
              "          const docLink = document.createElement('div');\n",
              "          docLink.innerHTML = docLinkHtml;\n",
              "          element.appendChild(docLink);\n",
              "        }\n",
              "      </script>\n",
              "    </div>\n",
              "  </div>\n",
              "  "
            ]
          },
          "metadata": {},
          "execution_count": 19
        }
      ]
    },
    {
      "cell_type": "markdown",
      "source": [
        "Creating tables having 100 features each of the features with number datatypes, we can easily visualize the distribution of individual features, identify constants and features with zero data, then drop them"
      ],
      "metadata": {
        "id": "yXP-B8zEwm72"
      }
    },
    {
      "cell_type": "code",
      "source": [
        "df1=dfA.iloc[:, :100]"
      ],
      "metadata": {
        "id": "kHrnaBCfwsaG"
      },
      "execution_count": null,
      "outputs": []
    },
    {
      "cell_type": "code",
      "source": [
        "df2=dfA.iloc[:,101:201]\n",
        "df3=dfA.iloc[:,201:301]\n",
        "df4=dfA.iloc[:,301:401]\n",
        "df5=dfA.iloc[:,401:501]\n",
        "df6=dfA.iloc[:,501:601]\n",
        "df7=dfA.iloc[:,601:701]\n",
        "df8=dfA.iloc[:,701:]"
      ],
      "metadata": {
        "id": "2mCZZGofy0ON"
      },
      "execution_count": null,
      "outputs": []
    },
    {
      "cell_type": "code",
      "source": [
        "df2.hist(bins=20, figsize=(30, 22))\n",
        "plt.show()"
      ],
      "metadata": {
        "id": "tU-y8Q4GhJCQ",
        "colab": {
          "base_uri": "https://localhost:8080/",
          "height": 1000
        },
        "outputId": "04a9d271-859d-4302-8f5d-26d3951ef57c"
      },
      "execution_count": null,
      "outputs": [
        {
          "output_type": "display_data",
          "data": {
            "text/plain": [
              "<Figure size 2160x1584 with 100 Axes>"
            ],
            "image/png": "[encoded data removed]"
          },
          "metadata": {
            "needs_background": "light"
          }
        }
      ]
    },
    {
      "cell_type": "code",
      "source": [
        "#df5A = df5A.iloc[:,[0,4,5,8,11,12,14,15,16,18,20,26,27,30,31,32]]\n",
        "df8A.isna().sum()"
      ],
      "metadata": {
        "colab": {
          "base_uri": "https://localhost:8080/"
        },
        "id": "-GEW3kYu9cjv",
        "outputId": "fb469222-2aea-4856-cc26-89bfeed0656a"
      },
      "execution_count": null,
      "outputs": [
        {
          "output_type": "execute_result",
          "data": {
            "text/plain": [
              "team2_other_raw_var_70            1391\n",
              "team2_defensive_raw_var_71        1391\n",
              "team2_other_raw_var_73            1391\n",
              "team2_other_raw_var_74            1391\n",
              "team2_other_raw_var_75            1391\n",
              "                                  ... \n",
              "team2_defensive_derived_var_15    1391\n",
              "team2_offensive_derived_var_16    1391\n",
              "team2_defensive_derived_var_17    1391\n",
              "team2_offensive_derived_var_18    1391\n",
              "team2_offensive_derived_var_19    1391\n",
              "Length: 63, dtype: int64"
            ]
          },
          "metadata": {},
          "execution_count": 24
        }
      ]
    },
    {
      "cell_type": "markdown",
      "source": [
        "Concatenating the tables into one table"
      ],
      "metadata": {
        "id": "azKIgG_X07Hp"
      }
    },
    {
      "cell_type": "code",
      "source": [
        "data = pd.concat([df1A, df2A, df3A, df4A, df5A, df6A, df7A, df8A], axis=1)"
      ],
      "metadata": {
        "id": "LTUpLvg8E_bb"
      },
      "execution_count": null,
      "outputs": []
    },
    {
      "cell_type": "code",
      "source": [
        "data"
      ],
      "metadata": {
        "colab": {
          "base_uri": "https://localhost:8080/",
          "height": 488
        },
        "id": "LW860WEeFthC",
        "outputId": "cd19bf20-de16-4e32-9cd7-7becc37afb6d"
      },
      "execution_count": null,
      "outputs": [
        {
          "output_type": "execute_result",
          "data": {
            "text/plain": [
              "       scout_id  rating_num  competitionId  player_position_1  \\\n",
              "0            13         7.0              8                7.0   \n",
              "1            16         6.5              8                3.0   \n",
              "2             4         8.5              5               11.0   \n",
              "3            13         8.0              4               17.0   \n",
              "4            11         3.5              5               10.0   \n",
              "...         ...         ...            ...                ...   \n",
              "20181        14         5.0             14                NaN   \n",
              "20182         3         6.0             11                4.0   \n",
              "20183         4         5.0              7                5.0   \n",
              "20184        13         6.0              8                5.0   \n",
              "20185         4         6.0              4                4.0   \n",
              "\n",
              "       player_position_2  player_height  player_weight  player_general_var_4  \\\n",
              "0                    7.0       0.317073           0.48              0.114754   \n",
              "1                    9.0       0.463415           0.42              0.081967   \n",
              "2                   11.0       0.682927           0.44              0.065574   \n",
              "3                   17.0       0.682927           0.58              0.000000   \n",
              "4                   10.0       0.731707           0.70              0.262295   \n",
              "...                  ...            ...            ...                   ...   \n",
              "20181                NaN       0.439024           0.26              0.049180   \n",
              "20182                4.0       0.390244           0.32              0.122951   \n",
              "20183                5.0       0.268293           0.30              0.155738   \n",
              "20184                5.0       0.463415           0.46              0.229508   \n",
              "20185                4.0       0.585366           0.36              0.163934   \n",
              "\n",
              "       player_defensive_raw_var_4  player_other_raw_var_6  ...  \\\n",
              "0                          0.0000                0.467550  ...   \n",
              "1                          0.0625                0.436467  ...   \n",
              "2                          0.1875                0.631370  ...   \n",
              "3                          0.0000                0.467550  ...   \n",
              "4                          0.0000                0.467550  ...   \n",
              "...                           ...                     ...  ...   \n",
              "20181                         NaN                     NaN  ...   \n",
              "20182                      0.0000                0.437765  ...   \n",
              "20183                      0.0000                0.521246  ...   \n",
              "20184                      0.0000                0.467550  ...   \n",
              "20185                      0.0000                0.431616  ...   \n",
              "\n",
              "       team2_defensive_derived_var_10  team2_offensive_derived_var_11  \\\n",
              "0                            0.193658                        0.131548   \n",
              "1                            0.190500                        0.173697   \n",
              "2                            0.312314                        0.250756   \n",
              "3                            0.282556                        0.155969   \n",
              "4                            0.450453                        0.199050   \n",
              "...                               ...                             ...   \n",
              "20181                             NaN                             NaN   \n",
              "20182                        0.362193                        0.240326   \n",
              "20183                        0.341322                        0.248870   \n",
              "20184                        0.215831                        0.190395   \n",
              "20185                        0.404569                        0.229025   \n",
              "\n",
              "       team2_offensive_derived_var_12  team2_offensive_derived_var_13  \\\n",
              "0                            0.097131                        0.600944   \n",
              "1                            0.272801                        0.605659   \n",
              "2                            0.212631                        0.558833   \n",
              "3                            0.206503                        0.533002   \n",
              "4                            0.134002                        0.688773   \n",
              "...                               ...                             ...   \n",
              "20181                             NaN                             NaN   \n",
              "20182                        0.369752                        0.438649   \n",
              "20183                        0.240096                        0.515025   \n",
              "20184                        0.207007                        0.631279   \n",
              "20185                        0.138451                        0.746928   \n",
              "\n",
              "       team2_offensive_derived_var_14  team2_defensive_derived_var_15  \\\n",
              "0                            0.338892                        0.347980   \n",
              "1                            0.526761                        0.468976   \n",
              "2                            0.686523                        0.441749   \n",
              "3                            0.373959                        0.527733   \n",
              "4                            0.681724                        0.733625   \n",
              "...                               ...                             ...   \n",
              "20181                             NaN                             NaN   \n",
              "20182                        0.381099                        0.264074   \n",
              "20183                        0.694587                        0.869000   \n",
              "20184                        0.330606                        0.322158   \n",
              "20185                        0.512851                        0.544212   \n",
              "\n",
              "       team2_offensive_derived_var_16  team2_defensive_derived_var_17  \\\n",
              "0                            0.034157                        0.288962   \n",
              "1                            0.054034                        0.334962   \n",
              "2                            0.219441                        0.414288   \n",
              "3                            0.095201                        0.423040   \n",
              "4                            0.128719                        0.448360   \n",
              "...                               ...                             ...   \n",
              "20181                             NaN                             NaN   \n",
              "20182                        0.171927                        0.422975   \n",
              "20183                        0.296820                        0.511550   \n",
              "20184                        0.108018                        0.333229   \n",
              "20185                        0.086429                        0.446098   \n",
              "\n",
              "       team2_offensive_derived_var_18  team2_offensive_derived_var_19  \n",
              "0                            0.310727                        0.204925  \n",
              "1                            0.380073                        0.295392  \n",
              "2                            0.570757                        0.437500  \n",
              "3                            0.330754                        0.235558  \n",
              "4                            0.444946                        0.312500  \n",
              "...                               ...                             ...  \n",
              "20181                             NaN                             NaN  \n",
              "20182                        0.588501                        0.534694  \n",
              "20183                        0.548315                        0.385927  \n",
              "20184                        0.349177                        0.458685  \n",
              "20185                        0.347572                        0.329782  \n",
              "\n",
              "[20186 rows x 393 columns]"
            ],
            "text/html": [
              "\n",
              "  <div id=\"df-62985887-68d0-4b73-9eac-7cf725c6d909\">\n",
              "    <div class=\"colab-df-container\">\n",
              "      <div>\n",
              "<style scoped>\n",
              "    .dataframe tbody tr th:only-of-type {\n",
              "        vertical-align: middle;\n",
              "    }\n",
              "\n",
              "    .dataframe tbody tr th {\n",
              "        vertical-align: top;\n",
              "    }\n",
              "\n",
              "    .dataframe thead th {\n",
              "        text-align: right;\n",
              "    }\n",
              "</style>\n",
              "<table border=\"1\" class=\"dataframe\">\n",
              "  <thead>\n",
              "    <tr style=\"text-align: right;\">\n",
              "      <th></th>\n",
              "      <th>scout_id</th>\n",
              "      <th>rating_num</th>\n",
              "      <th>competitionId</th>\n",
              "      <th>player_position_1</th>\n",
              "      <th>player_position_2</th>\n",
              "      <th>player_height</th>\n",
              "      <th>player_weight</th>\n",
              "      <th>player_general_var_4</th>\n",
              "      <th>player_defensive_raw_var_4</th>\n",
              "      <th>player_other_raw_var_6</th>\n",
              "      <th>...</th>\n",
              "      <th>team2_defensive_derived_var_10</th>\n",
              "      <th>team2_offensive_derived_var_11</th>\n",
              "      <th>team2_offensive_derived_var_12</th>\n",
              "      <th>team2_offensive_derived_var_13</th>\n",
              "      <th>team2_offensive_derived_var_14</th>\n",
              "      <th>team2_defensive_derived_var_15</th>\n",
              "      <th>team2_offensive_derived_var_16</th>\n",
              "      <th>team2_defensive_derived_var_17</th>\n",
              "      <th>team2_offensive_derived_var_18</th>\n",
              "      <th>team2_offensive_derived_var_19</th>\n",
              "    </tr>\n",
              "  </thead>\n",
              "  <tbody>\n",
              "    <tr>\n",
              "      <th>0</th>\n",
              "      <td>13</td>\n",
              "      <td>7.0</td>\n",
              "      <td>8</td>\n",
              "      <td>7.0</td>\n",
              "      <td>7.0</td>\n",
              "      <td>0.317073</td>\n",
              "      <td>0.48</td>\n",
              "      <td>0.114754</td>\n",
              "      <td>0.0000</td>\n",
              "      <td>0.467550</td>\n",
              "      <td>...</td>\n",
              "      <td>0.193658</td>\n",
              "      <td>0.131548</td>\n",
              "      <td>0.097131</td>\n",
              "      <td>0.600944</td>\n",
              "      <td>0.338892</td>\n",
              "      <td>0.347980</td>\n",
              "      <td>0.034157</td>\n",
              "      <td>0.288962</td>\n",
              "      <td>0.310727</td>\n",
              "      <td>0.204925</td>\n",
              "    </tr>\n",
              "    <tr>\n",
              "      <th>1</th>\n",
              "      <td>16</td>\n",
              "      <td>6.5</td>\n",
              "      <td>8</td>\n",
              "      <td>3.0</td>\n",
              "      <td>9.0</td>\n",
              "      <td>0.463415</td>\n",
              "      <td>0.42</td>\n",
              "      <td>0.081967</td>\n",
              "      <td>0.0625</td>\n",
              "      <td>0.436467</td>\n",
              "      <td>...</td>\n",
              "      <td>0.190500</td>\n",
              "      <td>0.173697</td>\n",
              "      <td>0.272801</td>\n",
              "      <td>0.605659</td>\n",
              "      <td>0.526761</td>\n",
              "      <td>0.468976</td>\n",
              "      <td>0.054034</td>\n",
              "      <td>0.334962</td>\n",
              "      <td>0.380073</td>\n",
              "      <td>0.295392</td>\n",
              "    </tr>\n",
              "    <tr>\n",
              "      <th>2</th>\n",
              "      <td>4</td>\n",
              "      <td>8.5</td>\n",
              "      <td>5</td>\n",
              "      <td>11.0</td>\n",
              "      <td>11.0</td>\n",
              "      <td>0.682927</td>\n",
              "      <td>0.44</td>\n",
              "      <td>0.065574</td>\n",
              "      <td>0.1875</td>\n",
              "      <td>0.631370</td>\n",
              "      <td>...</td>\n",
              "      <td>0.312314</td>\n",
              "      <td>0.250756</td>\n",
              "      <td>0.212631</td>\n",
              "      <td>0.558833</td>\n",
              "      <td>0.686523</td>\n",
              "      <td>0.441749</td>\n",
              "      <td>0.219441</td>\n",
              "      <td>0.414288</td>\n",
              "      <td>0.570757</td>\n",
              "      <td>0.437500</td>\n",
              "    </tr>\n",
              "    <tr>\n",
              "      <th>3</th>\n",
              "      <td>13</td>\n",
              "      <td>8.0</td>\n",
              "      <td>4</td>\n",
              "      <td>17.0</td>\n",
              "      <td>17.0</td>\n",
              "      <td>0.682927</td>\n",
              "      <td>0.58</td>\n",
              "      <td>0.000000</td>\n",
              "      <td>0.0000</td>\n",
              "      <td>0.467550</td>\n",
              "      <td>...</td>\n",
              "      <td>0.282556</td>\n",
              "      <td>0.155969</td>\n",
              "      <td>0.206503</td>\n",
              "      <td>0.533002</td>\n",
              "      <td>0.373959</td>\n",
              "      <td>0.527733</td>\n",
              "      <td>0.095201</td>\n",
              "      <td>0.423040</td>\n",
              "      <td>0.330754</td>\n",
              "      <td>0.235558</td>\n",
              "    </tr>\n",
              "    <tr>\n",
              "      <th>4</th>\n",
              "      <td>11</td>\n",
              "      <td>3.5</td>\n",
              "      <td>5</td>\n",
              "      <td>10.0</td>\n",
              "      <td>10.0</td>\n",
              "      <td>0.731707</td>\n",
              "      <td>0.70</td>\n",
              "      <td>0.262295</td>\n",
              "      <td>0.0000</td>\n",
              "      <td>0.467550</td>\n",
              "      <td>...</td>\n",
              "      <td>0.450453</td>\n",
              "      <td>0.199050</td>\n",
              "      <td>0.134002</td>\n",
              "      <td>0.688773</td>\n",
              "      <td>0.681724</td>\n",
              "      <td>0.733625</td>\n",
              "      <td>0.128719</td>\n",
              "      <td>0.448360</td>\n",
              "      <td>0.444946</td>\n",
              "      <td>0.312500</td>\n",
              "    </tr>\n",
              "    <tr>\n",
              "      <th>...</th>\n",
              "      <td>...</td>\n",
              "      <td>...</td>\n",
              "      <td>...</td>\n",
              "      <td>...</td>\n",
              "      <td>...</td>\n",
              "      <td>...</td>\n",
              "      <td>...</td>\n",
              "      <td>...</td>\n",
              "      <td>...</td>\n",
              "      <td>...</td>\n",
              "      <td>...</td>\n",
              "      <td>...</td>\n",
              "      <td>...</td>\n",
              "      <td>...</td>\n",
              "      <td>...</td>\n",
              "      <td>...</td>\n",
              "      <td>...</td>\n",
              "      <td>...</td>\n",
              "      <td>...</td>\n",
              "      <td>...</td>\n",
              "      <td>...</td>\n",
              "    </tr>\n",
              "    <tr>\n",
              "      <th>20181</th>\n",
              "      <td>14</td>\n",
              "      <td>5.0</td>\n",
              "      <td>14</td>\n",
              "      <td>NaN</td>\n",
              "      <td>NaN</td>\n",
              "      <td>0.439024</td>\n",
              "      <td>0.26</td>\n",
              "      <td>0.049180</td>\n",
              "      <td>NaN</td>\n",
              "      <td>NaN</td>\n",
              "      <td>...</td>\n",
              "      <td>NaN</td>\n",
              "      <td>NaN</td>\n",
              "      <td>NaN</td>\n",
              "      <td>NaN</td>\n",
              "      <td>NaN</td>\n",
              "      <td>NaN</td>\n",
              "      <td>NaN</td>\n",
              "      <td>NaN</td>\n",
              "      <td>NaN</td>\n",
              "      <td>NaN</td>\n",
              "    </tr>\n",
              "    <tr>\n",
              "      <th>20182</th>\n",
              "      <td>3</td>\n",
              "      <td>6.0</td>\n",
              "      <td>11</td>\n",
              "      <td>4.0</td>\n",
              "      <td>4.0</td>\n",
              "      <td>0.390244</td>\n",
              "      <td>0.32</td>\n",
              "      <td>0.122951</td>\n",
              "      <td>0.0000</td>\n",
              "      <td>0.437765</td>\n",
              "      <td>...</td>\n",
              "      <td>0.362193</td>\n",
              "      <td>0.240326</td>\n",
              "      <td>0.369752</td>\n",
              "      <td>0.438649</td>\n",
              "      <td>0.381099</td>\n",
              "      <td>0.264074</td>\n",
              "      <td>0.171927</td>\n",
              "      <td>0.422975</td>\n",
              "      <td>0.588501</td>\n",
              "      <td>0.534694</td>\n",
              "    </tr>\n",
              "    <tr>\n",
              "      <th>20183</th>\n",
              "      <td>4</td>\n",
              "      <td>5.0</td>\n",
              "      <td>7</td>\n",
              "      <td>5.0</td>\n",
              "      <td>5.0</td>\n",
              "      <td>0.268293</td>\n",
              "      <td>0.30</td>\n",
              "      <td>0.155738</td>\n",
              "      <td>0.0000</td>\n",
              "      <td>0.521246</td>\n",
              "      <td>...</td>\n",
              "      <td>0.341322</td>\n",
              "      <td>0.248870</td>\n",
              "      <td>0.240096</td>\n",
              "      <td>0.515025</td>\n",
              "      <td>0.694587</td>\n",
              "      <td>0.869000</td>\n",
              "      <td>0.296820</td>\n",
              "      <td>0.511550</td>\n",
              "      <td>0.548315</td>\n",
              "      <td>0.385927</td>\n",
              "    </tr>\n",
              "    <tr>\n",
              "      <th>20184</th>\n",
              "      <td>13</td>\n",
              "      <td>6.0</td>\n",
              "      <td>8</td>\n",
              "      <td>5.0</td>\n",
              "      <td>5.0</td>\n",
              "      <td>0.463415</td>\n",
              "      <td>0.46</td>\n",
              "      <td>0.229508</td>\n",
              "      <td>0.0000</td>\n",
              "      <td>0.467550</td>\n",
              "      <td>...</td>\n",
              "      <td>0.215831</td>\n",
              "      <td>0.190395</td>\n",
              "      <td>0.207007</td>\n",
              "      <td>0.631279</td>\n",
              "      <td>0.330606</td>\n",
              "      <td>0.322158</td>\n",
              "      <td>0.108018</td>\n",
              "      <td>0.333229</td>\n",
              "      <td>0.349177</td>\n",
              "      <td>0.458685</td>\n",
              "    </tr>\n",
              "    <tr>\n",
              "      <th>20185</th>\n",
              "      <td>4</td>\n",
              "      <td>6.0</td>\n",
              "      <td>4</td>\n",
              "      <td>4.0</td>\n",
              "      <td>4.0</td>\n",
              "      <td>0.585366</td>\n",
              "      <td>0.36</td>\n",
              "      <td>0.163934</td>\n",
              "      <td>0.0000</td>\n",
              "      <td>0.431616</td>\n",
              "      <td>...</td>\n",
              "      <td>0.404569</td>\n",
              "      <td>0.229025</td>\n",
              "      <td>0.138451</td>\n",
              "      <td>0.746928</td>\n",
              "      <td>0.512851</td>\n",
              "      <td>0.544212</td>\n",
              "      <td>0.086429</td>\n",
              "      <td>0.446098</td>\n",
              "      <td>0.347572</td>\n",
              "      <td>0.329782</td>\n",
              "    </tr>\n",
              "  </tbody>\n",
              "</table>\n",
              "<p>20186 rows × 393 columns</p>\n",
              "</div>\n",
              "      <button class=\"colab-df-convert\" onclick=\"convertToInteractive('df-62985887-68d0-4b73-9eac-7cf725c6d909')\"\n",
              "              title=\"Convert this dataframe to an interactive table.\"\n",
              "              style=\"display:none;\">\n",
              "        \n",
              "  <svg xmlns=\"http://www.w3.org/2000/svg\" height=\"24px\"viewBox=\"0 0 24 24\"\n",
              "       width=\"24px\">\n",
              "    <path d=\"M0 0h24v24H0V0z\" fill=\"none\"/>\n",
              "    <path d=\"M18.56 5.44l.94 2.06.94-2.06 2.06-.94-2.06-.94-.94-2.06-.94 2.06-2.06.94zm-11 1L8.5 8.5l.94-2.06 2.06-.94-2.06-.94L8.5 2.5l-.94 2.06-2.06.94zm10 10l.94 2.06.94-2.06 2.06-.94-2.06-.94-.94-2.06-.94 2.06-2.06.94z\"/><path d=\"M17.41 7.96l-1.37-1.37c-.4-.4-.92-.59-1.43-.59-.52 0-1.04.2-1.43.59L10.3 9.45l-7.72 7.72c-.78.78-.78 2.05 0 2.83L4 21.41c.39.39.9.59 1.41.59.51 0 1.02-.2 1.41-.59l7.78-7.78 2.81-2.81c.8-.78.8-2.07 0-2.86zM5.41 20L4 18.59l7.72-7.72 1.47 1.35L5.41 20z\"/>\n",
              "  </svg>\n",
              "      </button>\n",
              "      \n",
              "  <style>\n",
              "    .colab-df-container {\n",
              "      display:flex;\n",
              "      flex-wrap:wrap;\n",
              "      gap: 12px;\n",
              "    }\n",
              "\n",
              "    .colab-df-convert {\n",
              "      background-color: #E8F0FE;\n",
              "      border: none;\n",
              "      border-radius: 50%;\n",
              "      cursor: pointer;\n",
              "      display: none;\n",
              "      fill: #1967D2;\n",
              "      height: 32px;\n",
              "      padding: 0 0 0 0;\n",
              "      width: 32px;\n",
              "    }\n",
              "\n",
              "    .colab-df-convert:hover {\n",
              "      background-color: #E2EBFA;\n",
              "      box-shadow: 0px 1px 2px rgba(60, 64, 67, 0.3), 0px 1px 3px 1px rgba(60, 64, 67, 0.15);\n",
              "      fill: #174EA6;\n",
              "    }\n",
              "\n",
              "    [theme=dark] .colab-df-convert {\n",
              "      background-color: #3B4455;\n",
              "      fill: #D2E3FC;\n",
              "    }\n",
              "\n",
              "    [theme=dark] .colab-df-convert:hover {\n",
              "      background-color: #434B5C;\n",
              "      box-shadow: 0px 1px 3px 1px rgba(0, 0, 0, 0.15);\n",
              "      filter: drop-shadow(0px 1px 2px rgba(0, 0, 0, 0.3));\n",
              "      fill: #FFFFFF;\n",
              "    }\n",
              "  </style>\n",
              "\n",
              "      <script>\n",
              "        const buttonEl =\n",
              "          document.querySelector('#df-62985887-68d0-4b73-9eac-7cf725c6d909 button.colab-df-convert');\n",
              "        buttonEl.style.display =\n",
              "          google.colab.kernel.accessAllowed ? 'block' : 'none';\n",
              "\n",
              "        async function convertToInteractive(key) {\n",
              "          const element = document.querySelector('#df-62985887-68d0-4b73-9eac-7cf725c6d909');\n",
              "          const dataTable =\n",
              "            await google.colab.kernel.invokeFunction('convertToInteractive',\n",
              "                                                     [key], {});\n",
              "          if (!dataTable) return;\n",
              "\n",
              "          const docLinkHtml = 'Like what you see? Visit the ' +\n",
              "            '<a target=\"_blank\" href=https://colab.research.google.com/notebooks/data_table.ipynb>data table notebook</a>'\n",
              "            + ' to learn more about interactive tables.';\n",
              "          element.innerHTML = '';\n",
              "          dataTable['output_type'] = 'display_data';\n",
              "          await google.colab.output.renderOutput(dataTable, element);\n",
              "          const docLink = document.createElement('div');\n",
              "          docLink.innerHTML = docLinkHtml;\n",
              "          element.appendChild(docLink);\n",
              "        }\n",
              "      </script>\n",
              "    </div>\n",
              "  </div>\n",
              "  "
            ]
          },
          "metadata": {},
          "execution_count": 26
        }
      ]
    },
    {
      "cell_type": "markdown",
      "source": [
        "Creating a table for features identified as categorical features"
      ],
      "metadata": {
        "id": "Gz0uDzDc1LxL"
      }
    },
    {
      "cell_type": "code",
      "source": [
        "data_cat = data[['scout_id','competitionId','player_position_1','player_position_2']]"
      ],
      "metadata": {
        "id": "fY1lsBSCJBtV"
      },
      "execution_count": null,
      "outputs": []
    },
    {
      "cell_type": "code",
      "source": [
        "data = data.drop(['scout_id','competitionId','player_position_1','player_position_2', 'team2_system_id'], axis=1)"
      ],
      "metadata": {
        "id": "v7DdQlo0KkMo"
      },
      "execution_count": null,
      "outputs": []
    },
    {
      "cell_type": "code",
      "source": [
        "data.isna().sum()"
      ],
      "metadata": {
        "colab": {
          "base_uri": "https://localhost:8080/"
        },
        "id": "G2ubXxrRFVVj",
        "outputId": "27c2d3c4-59de-4710-ec96-e9fc26640bc2"
      },
      "execution_count": null,
      "outputs": [
        {
          "output_type": "execute_result",
          "data": {
            "text/plain": [
              "rating_num                           0\n",
              "player_height                        2\n",
              "player_weight                        2\n",
              "player_general_var_4                 0\n",
              "player_defensive_raw_var_4         371\n",
              "                                  ... \n",
              "team2_defensive_derived_var_15    1391\n",
              "team2_offensive_derived_var_16    1391\n",
              "team2_defensive_derived_var_17    1391\n",
              "team2_offensive_derived_var_18    1391\n",
              "team2_offensive_derived_var_19    1391\n",
              "Length: 388, dtype: int64"
            ]
          },
          "metadata": {},
          "execution_count": 29
        }
      ]
    },
    {
      "cell_type": "code",
      "source": [
        "data.info()"
      ],
      "metadata": {
        "colab": {
          "base_uri": "https://localhost:8080/"
        },
        "id": "p6sELCeal-lK",
        "outputId": "d56c9c14-f718-4009-b906-c08ef5825a70"
      },
      "execution_count": null,
      "outputs": [
        {
          "output_type": "stream",
          "name": "stdout",
          "text": [
            "<class 'pandas.core.frame.DataFrame'>\n",
            "RangeIndex: 20186 entries, 0 to 20185\n",
            "Columns: 388 entries, rating_num to team2_offensive_derived_var_19\n",
            "dtypes: float64(388)\n",
            "memory usage: 59.8 MB\n"
          ]
        }
      ]
    },
    {
      "cell_type": "markdown",
      "source": [
        "Fill missing values with median"
      ],
      "metadata": {
        "id": "Vyle8DMB1f2o"
      }
    },
    {
      "cell_type": "code",
      "source": [
        "median = data.median()\n",
        "median"
      ],
      "metadata": {
        "colab": {
          "base_uri": "https://localhost:8080/"
        },
        "id": "P-Rv6EyApxYV",
        "outputId": "ffa5e2ae-b56f-44ff-def8-ba9f461d5e89"
      },
      "execution_count": null,
      "outputs": [
        {
          "output_type": "execute_result",
          "data": {
            "text/plain": [
              "rating_num                        6.500000\n",
              "player_height                     0.512195\n",
              "player_weight                     0.440000\n",
              "player_general_var_4              0.114754\n",
              "player_defensive_raw_var_4        0.000000\n",
              "                                    ...   \n",
              "team2_defensive_derived_var_15    0.499538\n",
              "team2_offensive_derived_var_16    0.102899\n",
              "team2_defensive_derived_var_17    0.422325\n",
              "team2_offensive_derived_var_18    0.420201\n",
              "team2_offensive_derived_var_19    0.320256\n",
              "Length: 388, dtype: float64"
            ]
          },
          "metadata": {},
          "execution_count": 31
        }
      ]
    },
    {
      "cell_type": "code",
      "source": [
        "data.fillna(median, inplace=True)"
      ],
      "metadata": {
        "id": "3lIUheesLWm2"
      },
      "execution_count": null,
      "outputs": []
    },
    {
      "cell_type": "code",
      "source": [
        "df_cat = df[['winner', 'team']]"
      ],
      "metadata": {
        "id": "_AhbUMsgMe34"
      },
      "execution_count": null,
      "outputs": []
    },
    {
      "cell_type": "code",
      "source": [
        "data_cat = pd.concat([data_cat, df_cat], axis=1)"
      ],
      "metadata": {
        "id": "Aq6le3wMMACL"
      },
      "execution_count": null,
      "outputs": []
    },
    {
      "cell_type": "code",
      "source": [
        "data.shape"
      ],
      "metadata": {
        "colab": {
          "base_uri": "https://localhost:8080/"
        },
        "id": "WyZS80PaNUA7",
        "outputId": "1316c20f-dfee-49e5-acca-536d2c10bc5b"
      },
      "execution_count": null,
      "outputs": [
        {
          "output_type": "execute_result",
          "data": {
            "text/plain": [
              "(20186, 388)"
            ]
          },
          "metadata": {},
          "execution_count": 35
        }
      ]
    },
    {
      "cell_type": "code",
      "source": [
        "data_cat"
      ],
      "metadata": {
        "colab": {
          "base_uri": "https://localhost:8080/",
          "height": 424
        },
        "id": "Hxwb_KbqNLBU",
        "outputId": "60ad58e0-60fa-4260-9f4f-7a4f111055a9"
      },
      "execution_count": null,
      "outputs": [
        {
          "output_type": "execute_result",
          "data": {
            "text/plain": [
              "       scout_id  competitionId  player_position_1  player_position_2  winner  \\\n",
              "0            13              8                7.0                7.0  winner   \n",
              "1            16              8                3.0                9.0   loser   \n",
              "2             4              5               11.0               11.0   loser   \n",
              "3            13              4               17.0               17.0   loser   \n",
              "4            11              5               10.0               10.0    draw   \n",
              "...         ...            ...                ...                ...     ...   \n",
              "20181        14             14                NaN                NaN    draw   \n",
              "20182         3             11                4.0                4.0  winner   \n",
              "20183         4              7                5.0                5.0   loser   \n",
              "20184        13              8                5.0                5.0   loser   \n",
              "20185         4              4                4.0                4.0  winner   \n",
              "\n",
              "        team  \n",
              "0      team1  \n",
              "1      team2  \n",
              "2      team1  \n",
              "3      team2  \n",
              "4      team1  \n",
              "...      ...  \n",
              "20181  team2  \n",
              "20182  team2  \n",
              "20183  team1  \n",
              "20184  team1  \n",
              "20185  team2  \n",
              "\n",
              "[20186 rows x 6 columns]"
            ],
            "text/html": [
              "\n",
              "  <div id=\"df-927009ac-b9d5-4254-ba52-5277e9fb27bf\">\n",
              "    <div class=\"colab-df-container\">\n",
              "      <div>\n",
              "<style scoped>\n",
              "    .dataframe tbody tr th:only-of-type {\n",
              "        vertical-align: middle;\n",
              "    }\n",
              "\n",
              "    .dataframe tbody tr th {\n",
              "        vertical-align: top;\n",
              "    }\n",
              "\n",
              "    .dataframe thead th {\n",
              "        text-align: right;\n",
              "    }\n",
              "</style>\n",
              "<table border=\"1\" class=\"dataframe\">\n",
              "  <thead>\n",
              "    <tr style=\"text-align: right;\">\n",
              "      <th></th>\n",
              "      <th>scout_id</th>\n",
              "      <th>competitionId</th>\n",
              "      <th>player_position_1</th>\n",
              "      <th>player_position_2</th>\n",
              "      <th>winner</th>\n",
              "      <th>team</th>\n",
              "    </tr>\n",
              "  </thead>\n",
              "  <tbody>\n",
              "    <tr>\n",
              "      <th>0</th>\n",
              "      <td>13</td>\n",
              "      <td>8</td>\n",
              "      <td>7.0</td>\n",
              "      <td>7.0</td>\n",
              "      <td>winner</td>\n",
              "      <td>team1</td>\n",
              "    </tr>\n",
              "    <tr>\n",
              "      <th>1</th>\n",
              "      <td>16</td>\n",
              "      <td>8</td>\n",
              "      <td>3.0</td>\n",
              "      <td>9.0</td>\n",
              "      <td>loser</td>\n",
              "      <td>team2</td>\n",
              "    </tr>\n",
              "    <tr>\n",
              "      <th>2</th>\n",
              "      <td>4</td>\n",
              "      <td>5</td>\n",
              "      <td>11.0</td>\n",
              "      <td>11.0</td>\n",
              "      <td>loser</td>\n",
              "      <td>team1</td>\n",
              "    </tr>\n",
              "    <tr>\n",
              "      <th>3</th>\n",
              "      <td>13</td>\n",
              "      <td>4</td>\n",
              "      <td>17.0</td>\n",
              "      <td>17.0</td>\n",
              "      <td>loser</td>\n",
              "      <td>team2</td>\n",
              "    </tr>\n",
              "    <tr>\n",
              "      <th>4</th>\n",
              "      <td>11</td>\n",
              "      <td>5</td>\n",
              "      <td>10.0</td>\n",
              "      <td>10.0</td>\n",
              "      <td>draw</td>\n",
              "      <td>team1</td>\n",
              "    </tr>\n",
              "    <tr>\n",
              "      <th>...</th>\n",
              "      <td>...</td>\n",
              "      <td>...</td>\n",
              "      <td>...</td>\n",
              "      <td>...</td>\n",
              "      <td>...</td>\n",
              "      <td>...</td>\n",
              "    </tr>\n",
              "    <tr>\n",
              "      <th>20181</th>\n",
              "      <td>14</td>\n",
              "      <td>14</td>\n",
              "      <td>NaN</td>\n",
              "      <td>NaN</td>\n",
              "      <td>draw</td>\n",
              "      <td>team2</td>\n",
              "    </tr>\n",
              "    <tr>\n",
              "      <th>20182</th>\n",
              "      <td>3</td>\n",
              "      <td>11</td>\n",
              "      <td>4.0</td>\n",
              "      <td>4.0</td>\n",
              "      <td>winner</td>\n",
              "      <td>team2</td>\n",
              "    </tr>\n",
              "    <tr>\n",
              "      <th>20183</th>\n",
              "      <td>4</td>\n",
              "      <td>7</td>\n",
              "      <td>5.0</td>\n",
              "      <td>5.0</td>\n",
              "      <td>loser</td>\n",
              "      <td>team1</td>\n",
              "    </tr>\n",
              "    <tr>\n",
              "      <th>20184</th>\n",
              "      <td>13</td>\n",
              "      <td>8</td>\n",
              "      <td>5.0</td>\n",
              "      <td>5.0</td>\n",
              "      <td>loser</td>\n",
              "      <td>team1</td>\n",
              "    </tr>\n",
              "    <tr>\n",
              "      <th>20185</th>\n",
              "      <td>4</td>\n",
              "      <td>4</td>\n",
              "      <td>4.0</td>\n",
              "      <td>4.0</td>\n",
              "      <td>winner</td>\n",
              "      <td>team2</td>\n",
              "    </tr>\n",
              "  </tbody>\n",
              "</table>\n",
              "<p>20186 rows × 6 columns</p>\n",
              "</div>\n",
              "      <button class=\"colab-df-convert\" onclick=\"convertToInteractive('df-927009ac-b9d5-4254-ba52-5277e9fb27bf')\"\n",
              "              title=\"Convert this dataframe to an interactive table.\"\n",
              "              style=\"display:none;\">\n",
              "        \n",
              "  <svg xmlns=\"http://www.w3.org/2000/svg\" height=\"24px\"viewBox=\"0 0 24 24\"\n",
              "       width=\"24px\">\n",
              "    <path d=\"M0 0h24v24H0V0z\" fill=\"none\"/>\n",
              "    <path d=\"M18.56 5.44l.94 2.06.94-2.06 2.06-.94-2.06-.94-.94-2.06-.94 2.06-2.06.94zm-11 1L8.5 8.5l.94-2.06 2.06-.94-2.06-.94L8.5 2.5l-.94 2.06-2.06.94zm10 10l.94 2.06.94-2.06 2.06-.94-2.06-.94-.94-2.06-.94 2.06-2.06.94z\"/><path d=\"M17.41 7.96l-1.37-1.37c-.4-.4-.92-.59-1.43-.59-.52 0-1.04.2-1.43.59L10.3 9.45l-7.72 7.72c-.78.78-.78 2.05 0 2.83L4 21.41c.39.39.9.59 1.41.59.51 0 1.02-.2 1.41-.59l7.78-7.78 2.81-2.81c.8-.78.8-2.07 0-2.86zM5.41 20L4 18.59l7.72-7.72 1.47 1.35L5.41 20z\"/>\n",
              "  </svg>\n",
              "      </button>\n",
              "      \n",
              "  <style>\n",
              "    .colab-df-container {\n",
              "      display:flex;\n",
              "      flex-wrap:wrap;\n",
              "      gap: 12px;\n",
              "    }\n",
              "\n",
              "    .colab-df-convert {\n",
              "      background-color: #E8F0FE;\n",
              "      border: none;\n",
              "      border-radius: 50%;\n",
              "      cursor: pointer;\n",
              "      display: none;\n",
              "      fill: #1967D2;\n",
              "      height: 32px;\n",
              "      padding: 0 0 0 0;\n",
              "      width: 32px;\n",
              "    }\n",
              "\n",
              "    .colab-df-convert:hover {\n",
              "      background-color: #E2EBFA;\n",
              "      box-shadow: 0px 1px 2px rgba(60, 64, 67, 0.3), 0px 1px 3px 1px rgba(60, 64, 67, 0.15);\n",
              "      fill: #174EA6;\n",
              "    }\n",
              "\n",
              "    [theme=dark] .colab-df-convert {\n",
              "      background-color: #3B4455;\n",
              "      fill: #D2E3FC;\n",
              "    }\n",
              "\n",
              "    [theme=dark] .colab-df-convert:hover {\n",
              "      background-color: #434B5C;\n",
              "      box-shadow: 0px 1px 3px 1px rgba(0, 0, 0, 0.15);\n",
              "      filter: drop-shadow(0px 1px 2px rgba(0, 0, 0, 0.3));\n",
              "      fill: #FFFFFF;\n",
              "    }\n",
              "  </style>\n",
              "\n",
              "      <script>\n",
              "        const buttonEl =\n",
              "          document.querySelector('#df-927009ac-b9d5-4254-ba52-5277e9fb27bf button.colab-df-convert');\n",
              "        buttonEl.style.display =\n",
              "          google.colab.kernel.accessAllowed ? 'block' : 'none';\n",
              "\n",
              "        async function convertToInteractive(key) {\n",
              "          const element = document.querySelector('#df-927009ac-b9d5-4254-ba52-5277e9fb27bf');\n",
              "          const dataTable =\n",
              "            await google.colab.kernel.invokeFunction('convertToInteractive',\n",
              "                                                     [key], {});\n",
              "          if (!dataTable) return;\n",
              "\n",
              "          const docLinkHtml = 'Like what you see? Visit the ' +\n",
              "            '<a target=\"_blank\" href=https://colab.research.google.com/notebooks/data_table.ipynb>data table notebook</a>'\n",
              "            + ' to learn more about interactive tables.';\n",
              "          element.innerHTML = '';\n",
              "          dataTable['output_type'] = 'display_data';\n",
              "          await google.colab.output.renderOutput(dataTable, element);\n",
              "          const docLink = document.createElement('div');\n",
              "          docLink.innerHTML = docLinkHtml;\n",
              "          element.appendChild(docLink);\n",
              "        }\n",
              "      </script>\n",
              "    </div>\n",
              "  </div>\n",
              "  "
            ]
          },
          "metadata": {},
          "execution_count": 36
        }
      ]
    },
    {
      "cell_type": "code",
      "source": [
        "#data_cat = data_cat.drop(['team2_system_id'], axis=1)"
      ],
      "metadata": {
        "id": "39-yNvLkQ1aD"
      },
      "execution_count": null,
      "outputs": []
    },
    {
      "cell_type": "markdown",
      "source": [
        "Fill missing values with mode for categorical features"
      ],
      "metadata": {
        "id": "f8YSTwh_30lu"
      }
    },
    {
      "cell_type": "code",
      "source": [
        "mode = data_cat.mode()"
      ],
      "metadata": {
        "id": "Pl7ayQXOO15r"
      },
      "execution_count": null,
      "outputs": []
    },
    {
      "cell_type": "code",
      "source": [
        "data_cat.fillna(mode, inplace=True)"
      ],
      "metadata": {
        "id": "Yq2PsH2SPCqx"
      },
      "execution_count": null,
      "outputs": []
    },
    {
      "cell_type": "code",
      "source": [
        "data_cat=data_cat.astype(str)"
      ],
      "metadata": {
        "id": "ibT7X6iLR5rU"
      },
      "execution_count": null,
      "outputs": []
    },
    {
      "cell_type": "code",
      "source": [
        "data_cat.isna().sum()"
      ],
      "metadata": {
        "colab": {
          "base_uri": "https://localhost:8080/"
        },
        "id": "viwtuqT2Pdsm",
        "outputId": "a12104d6-4793-49dc-96a4-e672a435f825"
      },
      "execution_count": null,
      "outputs": [
        {
          "output_type": "execute_result",
          "data": {
            "text/plain": [
              "scout_id             0\n",
              "competitionId        0\n",
              "player_position_1    0\n",
              "player_position_2    0\n",
              "winner               0\n",
              "team                 0\n",
              "dtype: int64"
            ]
          },
          "metadata": {},
          "execution_count": 41
        }
      ]
    },
    {
      "cell_type": "markdown",
      "source": [
        "Player_position_1 and player_position_2 are the same so I dropped one"
      ],
      "metadata": {
        "id": "s6CO4mkZ3_7J"
      }
    },
    {
      "cell_type": "code",
      "source": [
        "data_cat = data_cat.drop(['player_position_2'], axis=1)"
      ],
      "metadata": {
        "id": "U3mPGMikSVfQ"
      },
      "execution_count": null,
      "outputs": []
    },
    {
      "cell_type": "code",
      "source": [
        "data= data.drop(['team2_other_ratio_var_32'], axis=1)"
      ],
      "metadata": {
        "id": "i2w27QHbTewF"
      },
      "execution_count": null,
      "outputs": []
    },
    {
      "cell_type": "code",
      "source": [
        "data.head()"
      ],
      "metadata": {
        "colab": {
          "base_uri": "https://localhost:8080/",
          "height": 299
        },
        "id": "nmc6BfwWn2Ew",
        "outputId": "81c15813-69e3-4030-cd24-7b2d6a2fff14"
      },
      "execution_count": null,
      "outputs": [
        {
          "output_type": "execute_result",
          "data": {
            "text/plain": [
              "   rating_num  player_height  player_weight  player_general_var_4  \\\n",
              "0         7.0       0.317073           0.48              0.114754   \n",
              "1         6.5       0.463415           0.42              0.081967   \n",
              "2         8.5       0.682927           0.44              0.065574   \n",
              "3         8.0       0.682927           0.58              0.000000   \n",
              "4         3.5       0.731707           0.70              0.262295   \n",
              "\n",
              "   player_defensive_raw_var_4  player_other_raw_var_6  \\\n",
              "0                      0.0000                0.467550   \n",
              "1                      0.0625                0.436467   \n",
              "2                      0.1875                0.631370   \n",
              "3                      0.0000                0.467550   \n",
              "4                      0.0000                0.467550   \n",
              "\n",
              "   player_offensive_raw_var_31  player_other_raw_var_34  \\\n",
              "0                     0.142857                 0.090909   \n",
              "1                     0.000000                 0.090909   \n",
              "2                     0.071429                 0.090909   \n",
              "3                     0.000000                 0.000000   \n",
              "4                     0.000000                 0.090909   \n",
              "\n",
              "   player_other_raw_var_35  player_other_raw_var_38  ...  \\\n",
              "0                      0.0                 0.294118  ...   \n",
              "1                      0.1                 0.000000  ...   \n",
              "2                      0.0                 0.117647  ...   \n",
              "3                      0.0                 0.000000  ...   \n",
              "4                      0.1                 0.000000  ...   \n",
              "\n",
              "   team2_defensive_derived_var_10  team2_offensive_derived_var_11  \\\n",
              "0                        0.193658                        0.131548   \n",
              "1                        0.190500                        0.173697   \n",
              "2                        0.312314                        0.250756   \n",
              "3                        0.282556                        0.155969   \n",
              "4                        0.450453                        0.199050   \n",
              "\n",
              "   team2_offensive_derived_var_12  team2_offensive_derived_var_13  \\\n",
              "0                        0.097131                        0.600944   \n",
              "1                        0.272801                        0.605659   \n",
              "2                        0.212631                        0.558833   \n",
              "3                        0.206503                        0.533002   \n",
              "4                        0.134002                        0.688773   \n",
              "\n",
              "   team2_offensive_derived_var_14  team2_defensive_derived_var_15  \\\n",
              "0                        0.338892                        0.347980   \n",
              "1                        0.526761                        0.468976   \n",
              "2                        0.686523                        0.441749   \n",
              "3                        0.373959                        0.527733   \n",
              "4                        0.681724                        0.733625   \n",
              "\n",
              "   team2_offensive_derived_var_16  team2_defensive_derived_var_17  \\\n",
              "0                        0.034157                        0.288962   \n",
              "1                        0.054034                        0.334962   \n",
              "2                        0.219441                        0.414288   \n",
              "3                        0.095201                        0.423040   \n",
              "4                        0.128719                        0.448360   \n",
              "\n",
              "   team2_offensive_derived_var_18  team2_offensive_derived_var_19  \n",
              "0                        0.310727                        0.204925  \n",
              "1                        0.380073                        0.295392  \n",
              "2                        0.570757                        0.437500  \n",
              "3                        0.330754                        0.235558  \n",
              "4                        0.444946                        0.312500  \n",
              "\n",
              "[5 rows x 387 columns]"
            ],
            "text/html": [
              "\n",
              "  <div id=\"df-5bb75878-bf09-4ce6-907d-045514665ffd\">\n",
              "    <div class=\"colab-df-container\">\n",
              "      <div>\n",
              "<style scoped>\n",
              "    .dataframe tbody tr th:only-of-type {\n",
              "        vertical-align: middle;\n",
              "    }\n",
              "\n",
              "    .dataframe tbody tr th {\n",
              "        vertical-align: top;\n",
              "    }\n",
              "\n",
              "    .dataframe thead th {\n",
              "        text-align: right;\n",
              "    }\n",
              "</style>\n",
              "<table border=\"1\" class=\"dataframe\">\n",
              "  <thead>\n",
              "    <tr style=\"text-align: right;\">\n",
              "      <th></th>\n",
              "      <th>rating_num</th>\n",
              "      <th>player_height</th>\n",
              "      <th>player_weight</th>\n",
              "      <th>player_general_var_4</th>\n",
              "      <th>player_defensive_raw_var_4</th>\n",
              "      <th>player_other_raw_var_6</th>\n",
              "      <th>player_offensive_raw_var_31</th>\n",
              "      <th>player_other_raw_var_34</th>\n",
              "      <th>player_other_raw_var_35</th>\n",
              "      <th>player_other_raw_var_38</th>\n",
              "      <th>...</th>\n",
              "      <th>team2_defensive_derived_var_10</th>\n",
              "      <th>team2_offensive_derived_var_11</th>\n",
              "      <th>team2_offensive_derived_var_12</th>\n",
              "      <th>team2_offensive_derived_var_13</th>\n",
              "      <th>team2_offensive_derived_var_14</th>\n",
              "      <th>team2_defensive_derived_var_15</th>\n",
              "      <th>team2_offensive_derived_var_16</th>\n",
              "      <th>team2_defensive_derived_var_17</th>\n",
              "      <th>team2_offensive_derived_var_18</th>\n",
              "      <th>team2_offensive_derived_var_19</th>\n",
              "    </tr>\n",
              "  </thead>\n",
              "  <tbody>\n",
              "    <tr>\n",
              "      <th>0</th>\n",
              "      <td>7.0</td>\n",
              "      <td>0.317073</td>\n",
              "      <td>0.48</td>\n",
              "      <td>0.114754</td>\n",
              "      <td>0.0000</td>\n",
              "      <td>0.467550</td>\n",
              "      <td>0.142857</td>\n",
              "      <td>0.090909</td>\n",
              "      <td>0.0</td>\n",
              "      <td>0.294118</td>\n",
              "      <td>...</td>\n",
              "      <td>0.193658</td>\n",
              "      <td>0.131548</td>\n",
              "      <td>0.097131</td>\n",
              "      <td>0.600944</td>\n",
              "      <td>0.338892</td>\n",
              "      <td>0.347980</td>\n",
              "      <td>0.034157</td>\n",
              "      <td>0.288962</td>\n",
              "      <td>0.310727</td>\n",
              "      <td>0.204925</td>\n",
              "    </tr>\n",
              "    <tr>\n",
              "      <th>1</th>\n",
              "      <td>6.5</td>\n",
              "      <td>0.463415</td>\n",
              "      <td>0.42</td>\n",
              "      <td>0.081967</td>\n",
              "      <td>0.0625</td>\n",
              "      <td>0.436467</td>\n",
              "      <td>0.000000</td>\n",
              "      <td>0.090909</td>\n",
              "      <td>0.1</td>\n",
              "      <td>0.000000</td>\n",
              "      <td>...</td>\n",
              "      <td>0.190500</td>\n",
              "      <td>0.173697</td>\n",
              "      <td>0.272801</td>\n",
              "      <td>0.605659</td>\n",
              "      <td>0.526761</td>\n",
              "      <td>0.468976</td>\n",
              "      <td>0.054034</td>\n",
              "      <td>0.334962</td>\n",
              "      <td>0.380073</td>\n",
              "      <td>0.295392</td>\n",
              "    </tr>\n",
              "    <tr>\n",
              "      <th>2</th>\n",
              "      <td>8.5</td>\n",
              "      <td>0.682927</td>\n",
              "      <td>0.44</td>\n",
              "      <td>0.065574</td>\n",
              "      <td>0.1875</td>\n",
              "      <td>0.631370</td>\n",
              "      <td>0.071429</td>\n",
              "      <td>0.090909</td>\n",
              "      <td>0.0</td>\n",
              "      <td>0.117647</td>\n",
              "      <td>...</td>\n",
              "      <td>0.312314</td>\n",
              "      <td>0.250756</td>\n",
              "      <td>0.212631</td>\n",
              "      <td>0.558833</td>\n",
              "      <td>0.686523</td>\n",
              "      <td>0.441749</td>\n",
              "      <td>0.219441</td>\n",
              "      <td>0.414288</td>\n",
              "      <td>0.570757</td>\n",
              "      <td>0.437500</td>\n",
              "    </tr>\n",
              "    <tr>\n",
              "      <th>3</th>\n",
              "      <td>8.0</td>\n",
              "      <td>0.682927</td>\n",
              "      <td>0.58</td>\n",
              "      <td>0.000000</td>\n",
              "      <td>0.0000</td>\n",
              "      <td>0.467550</td>\n",
              "      <td>0.000000</td>\n",
              "      <td>0.000000</td>\n",
              "      <td>0.0</td>\n",
              "      <td>0.000000</td>\n",
              "      <td>...</td>\n",
              "      <td>0.282556</td>\n",
              "      <td>0.155969</td>\n",
              "      <td>0.206503</td>\n",
              "      <td>0.533002</td>\n",
              "      <td>0.373959</td>\n",
              "      <td>0.527733</td>\n",
              "      <td>0.095201</td>\n",
              "      <td>0.423040</td>\n",
              "      <td>0.330754</td>\n",
              "      <td>0.235558</td>\n",
              "    </tr>\n",
              "    <tr>\n",
              "      <th>4</th>\n",
              "      <td>3.5</td>\n",
              "      <td>0.731707</td>\n",
              "      <td>0.70</td>\n",
              "      <td>0.262295</td>\n",
              "      <td>0.0000</td>\n",
              "      <td>0.467550</td>\n",
              "      <td>0.000000</td>\n",
              "      <td>0.090909</td>\n",
              "      <td>0.1</td>\n",
              "      <td>0.000000</td>\n",
              "      <td>...</td>\n",
              "      <td>0.450453</td>\n",
              "      <td>0.199050</td>\n",
              "      <td>0.134002</td>\n",
              "      <td>0.688773</td>\n",
              "      <td>0.681724</td>\n",
              "      <td>0.733625</td>\n",
              "      <td>0.128719</td>\n",
              "      <td>0.448360</td>\n",
              "      <td>0.444946</td>\n",
              "      <td>0.312500</td>\n",
              "    </tr>\n",
              "  </tbody>\n",
              "</table>\n",
              "<p>5 rows × 387 columns</p>\n",
              "</div>\n",
              "      <button class=\"colab-df-convert\" onclick=\"convertToInteractive('df-5bb75878-bf09-4ce6-907d-045514665ffd')\"\n",
              "              title=\"Convert this dataframe to an interactive table.\"\n",
              "              style=\"display:none;\">\n",
              "        \n",
              "  <svg xmlns=\"http://www.w3.org/2000/svg\" height=\"24px\"viewBox=\"0 0 24 24\"\n",
              "       width=\"24px\">\n",
              "    <path d=\"M0 0h24v24H0V0z\" fill=\"none\"/>\n",
              "    <path d=\"M18.56 5.44l.94 2.06.94-2.06 2.06-.94-2.06-.94-.94-2.06-.94 2.06-2.06.94zm-11 1L8.5 8.5l.94-2.06 2.06-.94-2.06-.94L8.5 2.5l-.94 2.06-2.06.94zm10 10l.94 2.06.94-2.06 2.06-.94-2.06-.94-.94-2.06-.94 2.06-2.06.94z\"/><path d=\"M17.41 7.96l-1.37-1.37c-.4-.4-.92-.59-1.43-.59-.52 0-1.04.2-1.43.59L10.3 9.45l-7.72 7.72c-.78.78-.78 2.05 0 2.83L4 21.41c.39.39.9.59 1.41.59.51 0 1.02-.2 1.41-.59l7.78-7.78 2.81-2.81c.8-.78.8-2.07 0-2.86zM5.41 20L4 18.59l7.72-7.72 1.47 1.35L5.41 20z\"/>\n",
              "  </svg>\n",
              "      </button>\n",
              "      \n",
              "  <style>\n",
              "    .colab-df-container {\n",
              "      display:flex;\n",
              "      flex-wrap:wrap;\n",
              "      gap: 12px;\n",
              "    }\n",
              "\n",
              "    .colab-df-convert {\n",
              "      background-color: #E8F0FE;\n",
              "      border: none;\n",
              "      border-radius: 50%;\n",
              "      cursor: pointer;\n",
              "      display: none;\n",
              "      fill: #1967D2;\n",
              "      height: 32px;\n",
              "      padding: 0 0 0 0;\n",
              "      width: 32px;\n",
              "    }\n",
              "\n",
              "    .colab-df-convert:hover {\n",
              "      background-color: #E2EBFA;\n",
              "      box-shadow: 0px 1px 2px rgba(60, 64, 67, 0.3), 0px 1px 3px 1px rgba(60, 64, 67, 0.15);\n",
              "      fill: #174EA6;\n",
              "    }\n",
              "\n",
              "    [theme=dark] .colab-df-convert {\n",
              "      background-color: #3B4455;\n",
              "      fill: #D2E3FC;\n",
              "    }\n",
              "\n",
              "    [theme=dark] .colab-df-convert:hover {\n",
              "      background-color: #434B5C;\n",
              "      box-shadow: 0px 1px 3px 1px rgba(0, 0, 0, 0.15);\n",
              "      filter: drop-shadow(0px 1px 2px rgba(0, 0, 0, 0.3));\n",
              "      fill: #FFFFFF;\n",
              "    }\n",
              "  </style>\n",
              "\n",
              "      <script>\n",
              "        const buttonEl =\n",
              "          document.querySelector('#df-5bb75878-bf09-4ce6-907d-045514665ffd button.colab-df-convert');\n",
              "        buttonEl.style.display =\n",
              "          google.colab.kernel.accessAllowed ? 'block' : 'none';\n",
              "\n",
              "        async function convertToInteractive(key) {\n",
              "          const element = document.querySelector('#df-5bb75878-bf09-4ce6-907d-045514665ffd');\n",
              "          const dataTable =\n",
              "            await google.colab.kernel.invokeFunction('convertToInteractive',\n",
              "                                                     [key], {});\n",
              "          if (!dataTable) return;\n",
              "\n",
              "          const docLinkHtml = 'Like what you see? Visit the ' +\n",
              "            '<a target=\"_blank\" href=https://colab.research.google.com/notebooks/data_table.ipynb>data table notebook</a>'\n",
              "            + ' to learn more about interactive tables.';\n",
              "          element.innerHTML = '';\n",
              "          dataTable['output_type'] = 'display_data';\n",
              "          await google.colab.output.renderOutput(dataTable, element);\n",
              "          const docLink = document.createElement('div');\n",
              "          docLink.innerHTML = docLinkHtml;\n",
              "          element.appendChild(docLink);\n",
              "        }\n",
              "      </script>\n",
              "    </div>\n",
              "  </div>\n",
              "  "
            ]
          },
          "metadata": {},
          "execution_count": 44
        }
      ]
    },
    {
      "cell_type": "markdown",
      "source": [
        "Combined the tables with number datatypes and categorical datatypes"
      ],
      "metadata": {
        "id": "-PaSBAyC4R3T"
      }
    },
    {
      "cell_type": "code",
      "source": [
        "data_comb = pd.concat([data, data_cat], axis=1)"
      ],
      "metadata": {
        "id": "gQ3fklt5pU6z"
      },
      "execution_count": null,
      "outputs": []
    },
    {
      "cell_type": "code",
      "source": [
        "#data_comb"
      ],
      "metadata": {
        "id": "VUQ-qI4SpyQx"
      },
      "execution_count": null,
      "outputs": []
    },
    {
      "cell_type": "markdown",
      "source": [
        "Split the table into train and test using the stratified split"
      ],
      "metadata": {
        "id": "5YEiEcPf4gEb"
      }
    },
    {
      "cell_type": "code",
      "source": [
        "from sklearn.model_selection import StratifiedShuffleSplit\n",
        "\n",
        "split = StratifiedShuffleSplit(n_splits=1, test_size=0.3, random_state=42)\n",
        "for train_index, test_index in split.split(data_comb, data_comb[\"rating_num\"]):\n",
        "    strat_train_set = data_comb.loc[train_index]\n",
        "    strat_test_set = data_comb.loc[test_index]"
      ],
      "metadata": {
        "id": "5jjTIK4wp9Pp"
      },
      "execution_count": null,
      "outputs": []
    },
    {
      "cell_type": "code",
      "source": [
        "y_test = strat_test_set['rating_num']\n",
        "X_test = strat_test_set.drop(['rating_num'], axis=1)"
      ],
      "metadata": {
        "id": "3gYK9fsnp88v"
      },
      "execution_count": null,
      "outputs": []
    },
    {
      "cell_type": "code",
      "source": [
        "y_train = strat_train_set['rating_num']\n",
        "X_train = strat_train_set.drop(['rating_num'], axis=1)"
      ],
      "metadata": {
        "id": "pX8oi3wZp81N"
      },
      "execution_count": null,
      "outputs": []
    },
    {
      "cell_type": "code",
      "source": [
        "#y_train"
      ],
      "metadata": {
        "id": "fZDxYH_2p8oa"
      },
      "execution_count": null,
      "outputs": []
    },
    {
      "cell_type": "markdown",
      "source": [
        "Apply the CatBoostRegressor algorithm and visualize the feature importance without encoding the categorical variables"
      ],
      "metadata": {
        "id": "xPJNdmtM474f"
      }
    },
    {
      "cell_type": "code",
      "source": [
        "#!pip install catboost\n",
        "from catboost import CatBoostRegressor, Pool\n",
        "categorical_features =  np.where(X_train.dtypes == object )[0]\n",
        "\n",
        "model = CatBoostRegressor(iterations=5000)\n",
        "model.fit(X_train, y_train, cat_features=categorical_features)\n",
        "cat_pred = model.predict(X_test)"
      ],
      "metadata": {
        "id": "uS_rj2yeW81e"
      },
      "execution_count": null,
      "outputs": []
    },
    {
      "cell_type": "code",
      "source": [
        "feature_importance = model.feature_importances_\n",
        "sorted_idx = np.argsort(feature_importance)[-20:]\n",
        "\n",
        "fig = plt.figure(figsize=(12, 6))\n",
        "plt.barh(range(len(sorted_idx)), feature_importance[sorted_idx], align='center')\n",
        "plt.yticks(range(len(sorted_idx)), np.array(X_test.columns)[sorted_idx])\n",
        "plt.title('Feature Importance')"
      ],
      "metadata": {
        "id": "aqMqdAFyW8s0",
        "colab": {
          "base_uri": "https://localhost:8080/",
          "height": 408
        },
        "outputId": "2e6be5c6-8fe6-4b3a-9a0b-986ba29c9098"
      },
      "execution_count": null,
      "outputs": [
        {
          "output_type": "execute_result",
          "data": {
            "text/plain": [
              "Text(0.5, 1.0, 'Feature Importance')"
            ]
          },
          "metadata": {},
          "execution_count": 87
        },
        {
          "output_type": "display_data",
          "data": {
            "text/plain": [
              "<Figure size 864x432 with 1 Axes>"
            ],
            "image/png": "[encoded data removed]"
          },
          "metadata": {
            "needs_background": "light"
          }
        }
      ]
    },
    {
      "cell_type": "code",
      "source": [
        "from sklearn.metrics import r2_score\n",
        "r2= r2_score(y_test, cat_pred)\n",
        "print(r2)"
      ],
      "metadata": {
        "id": "omNLplpiW65j",
        "colab": {
          "base_uri": "https://localhost:8080/"
        },
        "outputId": "bbcc5755-6d83-4d0b-f83c-d855194f38a5"
      },
      "execution_count": null,
      "outputs": [
        {
          "output_type": "stream",
          "name": "stdout",
          "text": [
            "0.3392023505354195\n"
          ]
        }
      ]
    },
    {
      "cell_type": "code",
      "source": [],
      "metadata": {
        "id": "fFq7v1GR0YM0"
      },
      "execution_count": null,
      "outputs": []
    },
    {
      "cell_type": "markdown",
      "source": [
        "Using the top features"
      ],
      "metadata": {
        "id": "dG60Nn_3Qz-Z"
      }
    },
    {
      "cell_type": "code",
      "source": [
        "X_train_2 = X_train[['competitionId','scout_id','player_height','player_weight','player_general_var_4','player_positional_raw_var_185','winner','player_other_raw_var_38','player_other_raw_var_76','player_position_1',\n",
        "                   'player_general_derived_var_146','player_offensive_derived_var_55','player_other_raw_var_6','team','player_other_ratio_var_61','player_other_derived_var_42','player_offensive_raw_var_31','player_offensive_derived_var_127',\n",
        "                   'player_offensive_derived_var_89','team2_other_ratio_var_25']]\n",
        "X_test_2 = X_test[['competitionId','scout_id','player_height','player_weight','player_general_var_4','player_positional_raw_var_185','winner','player_other_raw_var_38','player_other_raw_var_76','player_position_1',\n",
        "                    'player_general_derived_var_146','player_offensive_derived_var_55','player_other_raw_var_6','team','player_other_ratio_var_61','player_other_derived_var_42','player_offensive_raw_var_31','player_offensive_derived_var_127',\n",
        "                    'player_offensive_derived_var_89','team2_other_ratio_var_25']]"
      ],
      "metadata": {
        "id": "VUh3KNSo0YIy"
      },
      "execution_count": null,
      "outputs": []
    },
    {
      "cell_type": "code",
      "source": [
        "#from catboost import CatBoostRegressor, Pool\n",
        "categorical_features =  np.where(X_train_2.dtypes == object )[0]\n",
        "\n",
        "model = CatBoostRegressor(iterations=5000)\n",
        "model.fit(X_train_2, y_train, cat_features=categorical_features)\n",
        "test_pred = model.predict(X_test_2)\n",
        "\n",
        "\n",
        "r2= r2_score(y_test, test_pred)\n",
        "print(r2)"
      ],
      "metadata": {
        "id": "DzIpNPIW0YBr"
      },
      "execution_count": null,
      "outputs": []
    },
    {
      "cell_type": "code",
      "source": [
        "r2= r2_score(y_test, test_pred)\n",
        "print(r2)"
      ],
      "metadata": {
        "colab": {
          "base_uri": "https://localhost:8080/"
        },
        "id": "dBYG3y1t_mBI",
        "outputId": "cf855202-d08a-4b9e-d134-e4fddd8fe842"
      },
      "execution_count": null,
      "outputs": [
        {
          "output_type": "stream",
          "name": "stdout",
          "text": [
            "0.31199377166013276\n"
          ]
        }
      ]
    },
    {
      "cell_type": "markdown",
      "source": [
        "Encoding the categorical variables"
      ],
      "metadata": {
        "id": "nDag59PFAMiZ"
      }
    },
    {
      "cell_type": "code",
      "source": [
        "data_cat"
      ],
      "metadata": {
        "colab": {
          "base_uri": "https://localhost:8080/",
          "height": 424
        },
        "id": "BV6hyxhX0Xwy",
        "outputId": "f6092dc1-dfbe-4874-cde8-80fd83f4abfc"
      },
      "execution_count": null,
      "outputs": [
        {
          "output_type": "execute_result",
          "data": {
            "text/plain": [
              "      scout_id competitionId player_position_1  winner   team\n",
              "0           13             8               7.0  winner  team1\n",
              "1           16             8               3.0   loser  team2\n",
              "2            4             5              11.0   loser  team1\n",
              "3           13             4              17.0   loser  team2\n",
              "4           11             5              10.0    draw  team1\n",
              "...        ...           ...               ...     ...    ...\n",
              "20181       14            14               nan    draw  team2\n",
              "20182        3            11               4.0  winner  team2\n",
              "20183        4             7               5.0   loser  team1\n",
              "20184       13             8               5.0   loser  team1\n",
              "20185        4             4               4.0  winner  team2\n",
              "\n",
              "[20186 rows x 5 columns]"
            ],
            "text/html": [
              "\n",
              "  <div id=\"df-3506ac64-2e94-427b-b840-68a777b6fecb\">\n",
              "    <div class=\"colab-df-container\">\n",
              "      <div>\n",
              "<style scoped>\n",
              "    .dataframe tbody tr th:only-of-type {\n",
              "        vertical-align: middle;\n",
              "    }\n",
              "\n",
              "    .dataframe tbody tr th {\n",
              "        vertical-align: top;\n",
              "    }\n",
              "\n",
              "    .dataframe thead th {\n",
              "        text-align: right;\n",
              "    }\n",
              "</style>\n",
              "<table border=\"1\" class=\"dataframe\">\n",
              "  <thead>\n",
              "    <tr style=\"text-align: right;\">\n",
              "      <th></th>\n",
              "      <th>scout_id</th>\n",
              "      <th>competitionId</th>\n",
              "      <th>player_position_1</th>\n",
              "      <th>winner</th>\n",
              "      <th>team</th>\n",
              "    </tr>\n",
              "  </thead>\n",
              "  <tbody>\n",
              "    <tr>\n",
              "      <th>0</th>\n",
              "      <td>13</td>\n",
              "      <td>8</td>\n",
              "      <td>7.0</td>\n",
              "      <td>winner</td>\n",
              "      <td>team1</td>\n",
              "    </tr>\n",
              "    <tr>\n",
              "      <th>1</th>\n",
              "      <td>16</td>\n",
              "      <td>8</td>\n",
              "      <td>3.0</td>\n",
              "      <td>loser</td>\n",
              "      <td>team2</td>\n",
              "    </tr>\n",
              "    <tr>\n",
              "      <th>2</th>\n",
              "      <td>4</td>\n",
              "      <td>5</td>\n",
              "      <td>11.0</td>\n",
              "      <td>loser</td>\n",
              "      <td>team1</td>\n",
              "    </tr>\n",
              "    <tr>\n",
              "      <th>3</th>\n",
              "      <td>13</td>\n",
              "      <td>4</td>\n",
              "      <td>17.0</td>\n",
              "      <td>loser</td>\n",
              "      <td>team2</td>\n",
              "    </tr>\n",
              "    <tr>\n",
              "      <th>4</th>\n",
              "      <td>11</td>\n",
              "      <td>5</td>\n",
              "      <td>10.0</td>\n",
              "      <td>draw</td>\n",
              "      <td>team1</td>\n",
              "    </tr>\n",
              "    <tr>\n",
              "      <th>...</th>\n",
              "      <td>...</td>\n",
              "      <td>...</td>\n",
              "      <td>...</td>\n",
              "      <td>...</td>\n",
              "      <td>...</td>\n",
              "    </tr>\n",
              "    <tr>\n",
              "      <th>20181</th>\n",
              "      <td>14</td>\n",
              "      <td>14</td>\n",
              "      <td>nan</td>\n",
              "      <td>draw</td>\n",
              "      <td>team2</td>\n",
              "    </tr>\n",
              "    <tr>\n",
              "      <th>20182</th>\n",
              "      <td>3</td>\n",
              "      <td>11</td>\n",
              "      <td>4.0</td>\n",
              "      <td>winner</td>\n",
              "      <td>team2</td>\n",
              "    </tr>\n",
              "    <tr>\n",
              "      <th>20183</th>\n",
              "      <td>4</td>\n",
              "      <td>7</td>\n",
              "      <td>5.0</td>\n",
              "      <td>loser</td>\n",
              "      <td>team1</td>\n",
              "    </tr>\n",
              "    <tr>\n",
              "      <th>20184</th>\n",
              "      <td>13</td>\n",
              "      <td>8</td>\n",
              "      <td>5.0</td>\n",
              "      <td>loser</td>\n",
              "      <td>team1</td>\n",
              "    </tr>\n",
              "    <tr>\n",
              "      <th>20185</th>\n",
              "      <td>4</td>\n",
              "      <td>4</td>\n",
              "      <td>4.0</td>\n",
              "      <td>winner</td>\n",
              "      <td>team2</td>\n",
              "    </tr>\n",
              "  </tbody>\n",
              "</table>\n",
              "<p>20186 rows × 5 columns</p>\n",
              "</div>\n",
              "      <button class=\"colab-df-convert\" onclick=\"convertToInteractive('df-3506ac64-2e94-427b-b840-68a777b6fecb')\"\n",
              "              title=\"Convert this dataframe to an interactive table.\"\n",
              "              style=\"display:none;\">\n",
              "        \n",
              "  <svg xmlns=\"http://www.w3.org/2000/svg\" height=\"24px\"viewBox=\"0 0 24 24\"\n",
              "       width=\"24px\">\n",
              "    <path d=\"M0 0h24v24H0V0z\" fill=\"none\"/>\n",
              "    <path d=\"M18.56 5.44l.94 2.06.94-2.06 2.06-.94-2.06-.94-.94-2.06-.94 2.06-2.06.94zm-11 1L8.5 8.5l.94-2.06 2.06-.94-2.06-.94L8.5 2.5l-.94 2.06-2.06.94zm10 10l.94 2.06.94-2.06 2.06-.94-2.06-.94-.94-2.06-.94 2.06-2.06.94z\"/><path d=\"M17.41 7.96l-1.37-1.37c-.4-.4-.92-.59-1.43-.59-.52 0-1.04.2-1.43.59L10.3 9.45l-7.72 7.72c-.78.78-.78 2.05 0 2.83L4 21.41c.39.39.9.59 1.41.59.51 0 1.02-.2 1.41-.59l7.78-7.78 2.81-2.81c.8-.78.8-2.07 0-2.86zM5.41 20L4 18.59l7.72-7.72 1.47 1.35L5.41 20z\"/>\n",
              "  </svg>\n",
              "      </button>\n",
              "      \n",
              "  <style>\n",
              "    .colab-df-container {\n",
              "      display:flex;\n",
              "      flex-wrap:wrap;\n",
              "      gap: 12px;\n",
              "    }\n",
              "\n",
              "    .colab-df-convert {\n",
              "      background-color: #E8F0FE;\n",
              "      border: none;\n",
              "      border-radius: 50%;\n",
              "      cursor: pointer;\n",
              "      display: none;\n",
              "      fill: #1967D2;\n",
              "      height: 32px;\n",
              "      padding: 0 0 0 0;\n",
              "      width: 32px;\n",
              "    }\n",
              "\n",
              "    .colab-df-convert:hover {\n",
              "      background-color: #E2EBFA;\n",
              "      box-shadow: 0px 1px 2px rgba(60, 64, 67, 0.3), 0px 1px 3px 1px rgba(60, 64, 67, 0.15);\n",
              "      fill: #174EA6;\n",
              "    }\n",
              "\n",
              "    [theme=dark] .colab-df-convert {\n",
              "      background-color: #3B4455;\n",
              "      fill: #D2E3FC;\n",
              "    }\n",
              "\n",
              "    [theme=dark] .colab-df-convert:hover {\n",
              "      background-color: #434B5C;\n",
              "      box-shadow: 0px 1px 3px 1px rgba(0, 0, 0, 0.15);\n",
              "      filter: drop-shadow(0px 1px 2px rgba(0, 0, 0, 0.3));\n",
              "      fill: #FFFFFF;\n",
              "    }\n",
              "  </style>\n",
              "\n",
              "      <script>\n",
              "        const buttonEl =\n",
              "          document.querySelector('#df-3506ac64-2e94-427b-b840-68a777b6fecb button.colab-df-convert');\n",
              "        buttonEl.style.display =\n",
              "          google.colab.kernel.accessAllowed ? 'block' : 'none';\n",
              "\n",
              "        async function convertToInteractive(key) {\n",
              "          const element = document.querySelector('#df-3506ac64-2e94-427b-b840-68a777b6fecb');\n",
              "          const dataTable =\n",
              "            await google.colab.kernel.invokeFunction('convertToInteractive',\n",
              "                                                     [key], {});\n",
              "          if (!dataTable) return;\n",
              "\n",
              "          const docLinkHtml = 'Like what you see? Visit the ' +\n",
              "            '<a target=\"_blank\" href=https://colab.research.google.com/notebooks/data_table.ipynb>data table notebook</a>'\n",
              "            + ' to learn more about interactive tables.';\n",
              "          element.innerHTML = '';\n",
              "          dataTable['output_type'] = 'display_data';\n",
              "          await google.colab.output.renderOutput(dataTable, element);\n",
              "          const docLink = document.createElement('div');\n",
              "          docLink.innerHTML = docLinkHtml;\n",
              "          element.appendChild(docLink);\n",
              "        }\n",
              "      </script>\n",
              "    </div>\n",
              "  </div>\n",
              "  "
            ]
          },
          "metadata": {},
          "execution_count": 61
        }
      ]
    },
    {
      "cell_type": "code",
      "source": [
        "cat = pd.get_dummies(data_cat)"
      ],
      "metadata": {
        "id": "HmwtzFV70XoP"
      },
      "execution_count": null,
      "outputs": []
    },
    {
      "cell_type": "code",
      "source": [
        "cat"
      ],
      "metadata": {
        "colab": {
          "base_uri": "https://localhost:8080/",
          "height": 488
        },
        "id": "klA-Tbvpa_Lk",
        "outputId": "3f87c968-384e-4a23-b42f-ea5400d52898"
      },
      "execution_count": null,
      "outputs": [
        {
          "output_type": "execute_result",
          "data": {
            "text/plain": [
              "       scout_id_1  scout_id_10  scout_id_11  scout_id_12  scout_id_13  \\\n",
              "0               0            0            0            0            1   \n",
              "1               0            0            0            0            0   \n",
              "2               0            0            0            0            0   \n",
              "3               0            0            0            0            1   \n",
              "4               0            0            1            0            0   \n",
              "...           ...          ...          ...          ...          ...   \n",
              "20181           0            0            0            0            0   \n",
              "20182           0            0            0            0            0   \n",
              "20183           0            0            0            0            0   \n",
              "20184           0            0            0            0            1   \n",
              "20185           0            0            0            0            0   \n",
              "\n",
              "       scout_id_14  scout_id_15  scout_id_16  scout_id_17  scout_id_18  ...  \\\n",
              "0                0            0            0            0            0  ...   \n",
              "1                0            0            1            0            0  ...   \n",
              "2                0            0            0            0            0  ...   \n",
              "3                0            0            0            0            0  ...   \n",
              "4                0            0            0            0            0  ...   \n",
              "...            ...          ...          ...          ...          ...  ...   \n",
              "20181            1            0            0            0            0  ...   \n",
              "20182            0            0            0            0            0  ...   \n",
              "20183            0            0            0            0            0  ...   \n",
              "20184            0            0            0            0            0  ...   \n",
              "20185            0            0            0            0            0  ...   \n",
              "\n",
              "       player_position_1_6.0  player_position_1_7.0  player_position_1_8.0  \\\n",
              "0                          0                      1                      0   \n",
              "1                          0                      0                      0   \n",
              "2                          0                      0                      0   \n",
              "3                          0                      0                      0   \n",
              "4                          0                      0                      0   \n",
              "...                      ...                    ...                    ...   \n",
              "20181                      0                      0                      0   \n",
              "20182                      0                      0                      0   \n",
              "20183                      0                      0                      0   \n",
              "20184                      0                      0                      0   \n",
              "20185                      0                      0                      0   \n",
              "\n",
              "       player_position_1_9.0  player_position_1_nan  winner_draw  \\\n",
              "0                          0                      0            0   \n",
              "1                          0                      0            0   \n",
              "2                          0                      0            0   \n",
              "3                          0                      0            0   \n",
              "4                          0                      0            1   \n",
              "...                      ...                    ...          ...   \n",
              "20181                      0                      1            1   \n",
              "20182                      0                      0            0   \n",
              "20183                      0                      0            0   \n",
              "20184                      0                      0            0   \n",
              "20185                      0                      0            0   \n",
              "\n",
              "       winner_loser  winner_winner  team_team1  team_team2  \n",
              "0                 0              1           1           0  \n",
              "1                 1              0           0           1  \n",
              "2                 1              0           1           0  \n",
              "3                 1              0           0           1  \n",
              "4                 0              0           1           0  \n",
              "...             ...            ...         ...         ...  \n",
              "20181             0              0           0           1  \n",
              "20182             0              1           0           1  \n",
              "20183             1              0           1           0  \n",
              "20184             1              0           1           0  \n",
              "20185             0              1           0           1  \n",
              "\n",
              "[20186 rows x 59 columns]"
            ],
            "text/html": [
              "\n",
              "  <div id=\"df-332c7e18-bff2-4400-939f-34104949bcf9\">\n",
              "    <div class=\"colab-df-container\">\n",
              "      <div>\n",
              "<style scoped>\n",
              "    .dataframe tbody tr th:only-of-type {\n",
              "        vertical-align: middle;\n",
              "    }\n",
              "\n",
              "    .dataframe tbody tr th {\n",
              "        vertical-align: top;\n",
              "    }\n",
              "\n",
              "    .dataframe thead th {\n",
              "        text-align: right;\n",
              "    }\n",
              "</style>\n",
              "<table border=\"1\" class=\"dataframe\">\n",
              "  <thead>\n",
              "    <tr style=\"text-align: right;\">\n",
              "      <th></th>\n",
              "      <th>scout_id_1</th>\n",
              "      <th>scout_id_10</th>\n",
              "      <th>scout_id_11</th>\n",
              "      <th>scout_id_12</th>\n",
              "      <th>scout_id_13</th>\n",
              "      <th>scout_id_14</th>\n",
              "      <th>scout_id_15</th>\n",
              "      <th>scout_id_16</th>\n",
              "      <th>scout_id_17</th>\n",
              "      <th>scout_id_18</th>\n",
              "      <th>...</th>\n",
              "      <th>player_position_1_6.0</th>\n",
              "      <th>player_position_1_7.0</th>\n",
              "      <th>player_position_1_8.0</th>\n",
              "      <th>player_position_1_9.0</th>\n",
              "      <th>player_position_1_nan</th>\n",
              "      <th>winner_draw</th>\n",
              "      <th>winner_loser</th>\n",
              "      <th>winner_winner</th>\n",
              "      <th>team_team1</th>\n",
              "      <th>team_team2</th>\n",
              "    </tr>\n",
              "  </thead>\n",
              "  <tbody>\n",
              "    <tr>\n",
              "      <th>0</th>\n",
              "      <td>0</td>\n",
              "      <td>0</td>\n",
              "      <td>0</td>\n",
              "      <td>0</td>\n",
              "      <td>1</td>\n",
              "      <td>0</td>\n",
              "      <td>0</td>\n",
              "      <td>0</td>\n",
              "      <td>0</td>\n",
              "      <td>0</td>\n",
              "      <td>...</td>\n",
              "      <td>0</td>\n",
              "      <td>1</td>\n",
              "      <td>0</td>\n",
              "      <td>0</td>\n",
              "      <td>0</td>\n",
              "      <td>0</td>\n",
              "      <td>0</td>\n",
              "      <td>1</td>\n",
              "      <td>1</td>\n",
              "      <td>0</td>\n",
              "    </tr>\n",
              "    <tr>\n",
              "      <th>1</th>\n",
              "      <td>0</td>\n",
              "      <td>0</td>\n",
              "      <td>0</td>\n",
              "      <td>0</td>\n",
              "      <td>0</td>\n",
              "      <td>0</td>\n",
              "      <td>0</td>\n",
              "      <td>1</td>\n",
              "      <td>0</td>\n",
              "      <td>0</td>\n",
              "      <td>...</td>\n",
              "      <td>0</td>\n",
              "      <td>0</td>\n",
              "      <td>0</td>\n",
              "      <td>0</td>\n",
              "      <td>0</td>\n",
              "      <td>0</td>\n",
              "      <td>1</td>\n",
              "      <td>0</td>\n",
              "      <td>0</td>\n",
              "      <td>1</td>\n",
              "    </tr>\n",
              "    <tr>\n",
              "      <th>2</th>\n",
              "      <td>0</td>\n",
              "      <td>0</td>\n",
              "      <td>0</td>\n",
              "      <td>0</td>\n",
              "      <td>0</td>\n",
              "      <td>0</td>\n",
              "      <td>0</td>\n",
              "      <td>0</td>\n",
              "      <td>0</td>\n",
              "      <td>0</td>\n",
              "      <td>...</td>\n",
              "      <td>0</td>\n",
              "      <td>0</td>\n",
              "      <td>0</td>\n",
              "      <td>0</td>\n",
              "      <td>0</td>\n",
              "      <td>0</td>\n",
              "      <td>1</td>\n",
              "      <td>0</td>\n",
              "      <td>1</td>\n",
              "      <td>0</td>\n",
              "    </tr>\n",
              "    <tr>\n",
              "      <th>3</th>\n",
              "      <td>0</td>\n",
              "      <td>0</td>\n",
              "      <td>0</td>\n",
              "      <td>0</td>\n",
              "      <td>1</td>\n",
              "      <td>0</td>\n",
              "      <td>0</td>\n",
              "      <td>0</td>\n",
              "      <td>0</td>\n",
              "      <td>0</td>\n",
              "      <td>...</td>\n",
              "      <td>0</td>\n",
              "      <td>0</td>\n",
              "      <td>0</td>\n",
              "      <td>0</td>\n",
              "      <td>0</td>\n",
              "      <td>0</td>\n",
              "      <td>1</td>\n",
              "      <td>0</td>\n",
              "      <td>0</td>\n",
              "      <td>1</td>\n",
              "    </tr>\n",
              "    <tr>\n",
              "      <th>4</th>\n",
              "      <td>0</td>\n",
              "      <td>0</td>\n",
              "      <td>1</td>\n",
              "      <td>0</td>\n",
              "      <td>0</td>\n",
              "      <td>0</td>\n",
              "      <td>0</td>\n",
              "      <td>0</td>\n",
              "      <td>0</td>\n",
              "      <td>0</td>\n",
              "      <td>...</td>\n",
              "      <td>0</td>\n",
              "      <td>0</td>\n",
              "      <td>0</td>\n",
              "      <td>0</td>\n",
              "      <td>0</td>\n",
              "      <td>1</td>\n",
              "      <td>0</td>\n",
              "      <td>0</td>\n",
              "      <td>1</td>\n",
              "      <td>0</td>\n",
              "    </tr>\n",
              "    <tr>\n",
              "      <th>...</th>\n",
              "      <td>...</td>\n",
              "      <td>...</td>\n",
              "      <td>...</td>\n",
              "      <td>...</td>\n",
              "      <td>...</td>\n",
              "      <td>...</td>\n",
              "      <td>...</td>\n",
              "      <td>...</td>\n",
              "      <td>...</td>\n",
              "      <td>...</td>\n",
              "      <td>...</td>\n",
              "      <td>...</td>\n",
              "      <td>...</td>\n",
              "      <td>...</td>\n",
              "      <td>...</td>\n",
              "      <td>...</td>\n",
              "      <td>...</td>\n",
              "      <td>...</td>\n",
              "      <td>...</td>\n",
              "      <td>...</td>\n",
              "      <td>...</td>\n",
              "    </tr>\n",
              "    <tr>\n",
              "      <th>20181</th>\n",
              "      <td>0</td>\n",
              "      <td>0</td>\n",
              "      <td>0</td>\n",
              "      <td>0</td>\n",
              "      <td>0</td>\n",
              "      <td>1</td>\n",
              "      <td>0</td>\n",
              "      <td>0</td>\n",
              "      <td>0</td>\n",
              "      <td>0</td>\n",
              "      <td>...</td>\n",
              "      <td>0</td>\n",
              "      <td>0</td>\n",
              "      <td>0</td>\n",
              "      <td>0</td>\n",
              "      <td>1</td>\n",
              "      <td>1</td>\n",
              "      <td>0</td>\n",
              "      <td>0</td>\n",
              "      <td>0</td>\n",
              "      <td>1</td>\n",
              "    </tr>\n",
              "    <tr>\n",
              "      <th>20182</th>\n",
              "      <td>0</td>\n",
              "      <td>0</td>\n",
              "      <td>0</td>\n",
              "      <td>0</td>\n",
              "      <td>0</td>\n",
              "      <td>0</td>\n",
              "      <td>0</td>\n",
              "      <td>0</td>\n",
              "      <td>0</td>\n",
              "      <td>0</td>\n",
              "      <td>...</td>\n",
              "      <td>0</td>\n",
              "      <td>0</td>\n",
              "      <td>0</td>\n",
              "      <td>0</td>\n",
              "      <td>0</td>\n",
              "      <td>0</td>\n",
              "      <td>0</td>\n",
              "      <td>1</td>\n",
              "      <td>0</td>\n",
              "      <td>1</td>\n",
              "    </tr>\n",
              "    <tr>\n",
              "      <th>20183</th>\n",
              "      <td>0</td>\n",
              "      <td>0</td>\n",
              "      <td>0</td>\n",
              "      <td>0</td>\n",
              "      <td>0</td>\n",
              "      <td>0</td>\n",
              "      <td>0</td>\n",
              "      <td>0</td>\n",
              "      <td>0</td>\n",
              "      <td>0</td>\n",
              "      <td>...</td>\n",
              "      <td>0</td>\n",
              "      <td>0</td>\n",
              "      <td>0</td>\n",
              "      <td>0</td>\n",
              "      <td>0</td>\n",
              "      <td>0</td>\n",
              "      <td>1</td>\n",
              "      <td>0</td>\n",
              "      <td>1</td>\n",
              "      <td>0</td>\n",
              "    </tr>\n",
              "    <tr>\n",
              "      <th>20184</th>\n",
              "      <td>0</td>\n",
              "      <td>0</td>\n",
              "      <td>0</td>\n",
              "      <td>0</td>\n",
              "      <td>1</td>\n",
              "      <td>0</td>\n",
              "      <td>0</td>\n",
              "      <td>0</td>\n",
              "      <td>0</td>\n",
              "      <td>0</td>\n",
              "      <td>...</td>\n",
              "      <td>0</td>\n",
              "      <td>0</td>\n",
              "      <td>0</td>\n",
              "      <td>0</td>\n",
              "      <td>0</td>\n",
              "      <td>0</td>\n",
              "      <td>1</td>\n",
              "      <td>0</td>\n",
              "      <td>1</td>\n",
              "      <td>0</td>\n",
              "    </tr>\n",
              "    <tr>\n",
              "      <th>20185</th>\n",
              "      <td>0</td>\n",
              "      <td>0</td>\n",
              "      <td>0</td>\n",
              "      <td>0</td>\n",
              "      <td>0</td>\n",
              "      <td>0</td>\n",
              "      <td>0</td>\n",
              "      <td>0</td>\n",
              "      <td>0</td>\n",
              "      <td>0</td>\n",
              "      <td>...</td>\n",
              "      <td>0</td>\n",
              "      <td>0</td>\n",
              "      <td>0</td>\n",
              "      <td>0</td>\n",
              "      <td>0</td>\n",
              "      <td>0</td>\n",
              "      <td>0</td>\n",
              "      <td>1</td>\n",
              "      <td>0</td>\n",
              "      <td>1</td>\n",
              "    </tr>\n",
              "  </tbody>\n",
              "</table>\n",
              "<p>20186 rows × 59 columns</p>\n",
              "</div>\n",
              "      <button class=\"colab-df-convert\" onclick=\"convertToInteractive('df-332c7e18-bff2-4400-939f-34104949bcf9')\"\n",
              "              title=\"Convert this dataframe to an interactive table.\"\n",
              "              style=\"display:none;\">\n",
              "        \n",
              "  <svg xmlns=\"http://www.w3.org/2000/svg\" height=\"24px\"viewBox=\"0 0 24 24\"\n",
              "       width=\"24px\">\n",
              "    <path d=\"M0 0h24v24H0V0z\" fill=\"none\"/>\n",
              "    <path d=\"M18.56 5.44l.94 2.06.94-2.06 2.06-.94-2.06-.94-.94-2.06-.94 2.06-2.06.94zm-11 1L8.5 8.5l.94-2.06 2.06-.94-2.06-.94L8.5 2.5l-.94 2.06-2.06.94zm10 10l.94 2.06.94-2.06 2.06-.94-2.06-.94-.94-2.06-.94 2.06-2.06.94z\"/><path d=\"M17.41 7.96l-1.37-1.37c-.4-.4-.92-.59-1.43-.59-.52 0-1.04.2-1.43.59L10.3 9.45l-7.72 7.72c-.78.78-.78 2.05 0 2.83L4 21.41c.39.39.9.59 1.41.59.51 0 1.02-.2 1.41-.59l7.78-7.78 2.81-2.81c.8-.78.8-2.07 0-2.86zM5.41 20L4 18.59l7.72-7.72 1.47 1.35L5.41 20z\"/>\n",
              "  </svg>\n",
              "      </button>\n",
              "      \n",
              "  <style>\n",
              "    .colab-df-container {\n",
              "      display:flex;\n",
              "      flex-wrap:wrap;\n",
              "      gap: 12px;\n",
              "    }\n",
              "\n",
              "    .colab-df-convert {\n",
              "      background-color: #E8F0FE;\n",
              "      border: none;\n",
              "      border-radius: 50%;\n",
              "      cursor: pointer;\n",
              "      display: none;\n",
              "      fill: #1967D2;\n",
              "      height: 32px;\n",
              "      padding: 0 0 0 0;\n",
              "      width: 32px;\n",
              "    }\n",
              "\n",
              "    .colab-df-convert:hover {\n",
              "      background-color: #E2EBFA;\n",
              "      box-shadow: 0px 1px 2px rgba(60, 64, 67, 0.3), 0px 1px 3px 1px rgba(60, 64, 67, 0.15);\n",
              "      fill: #174EA6;\n",
              "    }\n",
              "\n",
              "    [theme=dark] .colab-df-convert {\n",
              "      background-color: #3B4455;\n",
              "      fill: #D2E3FC;\n",
              "    }\n",
              "\n",
              "    [theme=dark] .colab-df-convert:hover {\n",
              "      background-color: #434B5C;\n",
              "      box-shadow: 0px 1px 3px 1px rgba(0, 0, 0, 0.15);\n",
              "      filter: drop-shadow(0px 1px 2px rgba(0, 0, 0, 0.3));\n",
              "      fill: #FFFFFF;\n",
              "    }\n",
              "  </style>\n",
              "\n",
              "      <script>\n",
              "        const buttonEl =\n",
              "          document.querySelector('#df-332c7e18-bff2-4400-939f-34104949bcf9 button.colab-df-convert');\n",
              "        buttonEl.style.display =\n",
              "          google.colab.kernel.accessAllowed ? 'block' : 'none';\n",
              "\n",
              "        async function convertToInteractive(key) {\n",
              "          const element = document.querySelector('#df-332c7e18-bff2-4400-939f-34104949bcf9');\n",
              "          const dataTable =\n",
              "            await google.colab.kernel.invokeFunction('convertToInteractive',\n",
              "                                                     [key], {});\n",
              "          if (!dataTable) return;\n",
              "\n",
              "          const docLinkHtml = 'Like what you see? Visit the ' +\n",
              "            '<a target=\"_blank\" href=https://colab.research.google.com/notebooks/data_table.ipynb>data table notebook</a>'\n",
              "            + ' to learn more about interactive tables.';\n",
              "          element.innerHTML = '';\n",
              "          dataTable['output_type'] = 'display_data';\n",
              "          await google.colab.output.renderOutput(dataTable, element);\n",
              "          const docLink = document.createElement('div');\n",
              "          docLink.innerHTML = docLinkHtml;\n",
              "          element.appendChild(docLink);\n",
              "        }\n",
              "      </script>\n",
              "    </div>\n",
              "  </div>\n",
              "  "
            ]
          },
          "metadata": {},
          "execution_count": 63
        }
      ]
    },
    {
      "cell_type": "code",
      "source": [
        "data2 = pd.concat([data,cat], axis=1)"
      ],
      "metadata": {
        "id": "Ux7uUA00a_EO"
      },
      "execution_count": null,
      "outputs": []
    },
    {
      "cell_type": "code",
      "source": [
        "data2"
      ],
      "metadata": {
        "colab": {
          "base_uri": "https://localhost:8080/",
          "height": 488
        },
        "id": "mSx7Jfffa-70",
        "outputId": "08d88eac-08f9-492f-939f-636b4b0a2fa6"
      },
      "execution_count": null,
      "outputs": [
        {
          "output_type": "execute_result",
          "data": {
            "text/plain": [
              "       rating_num  player_height  player_weight  player_general_var_4  \\\n",
              "0             7.0       0.317073           0.48              0.114754   \n",
              "1             6.5       0.463415           0.42              0.081967   \n",
              "2             8.5       0.682927           0.44              0.065574   \n",
              "3             8.0       0.682927           0.58              0.000000   \n",
              "4             3.5       0.731707           0.70              0.262295   \n",
              "...           ...            ...            ...                   ...   \n",
              "20181         5.0       0.439024           0.26              0.049180   \n",
              "20182         6.0       0.390244           0.32              0.122951   \n",
              "20183         5.0       0.268293           0.30              0.155738   \n",
              "20184         6.0       0.463415           0.46              0.229508   \n",
              "20185         6.0       0.585366           0.36              0.163934   \n",
              "\n",
              "       player_defensive_raw_var_4  player_other_raw_var_6  \\\n",
              "0                          0.0000                0.467550   \n",
              "1                          0.0625                0.436467   \n",
              "2                          0.1875                0.631370   \n",
              "3                          0.0000                0.467550   \n",
              "4                          0.0000                0.467550   \n",
              "...                           ...                     ...   \n",
              "20181                      0.0000                0.467550   \n",
              "20182                      0.0000                0.437765   \n",
              "20183                      0.0000                0.521246   \n",
              "20184                      0.0000                0.467550   \n",
              "20185                      0.0000                0.431616   \n",
              "\n",
              "       player_offensive_raw_var_31  player_other_raw_var_34  \\\n",
              "0                         0.142857                 0.090909   \n",
              "1                         0.000000                 0.090909   \n",
              "2                         0.071429                 0.090909   \n",
              "3                         0.000000                 0.000000   \n",
              "4                         0.000000                 0.090909   \n",
              "...                            ...                      ...   \n",
              "20181                     0.071429                 0.090909   \n",
              "20182                     0.000000                 0.181818   \n",
              "20183                     0.071429                 0.000000   \n",
              "20184                     0.071429                 0.090909   \n",
              "20185                     0.071429                 0.090909   \n",
              "\n",
              "       player_other_raw_var_35  player_other_raw_var_38  ...  \\\n",
              "0                          0.0                 0.294118  ...   \n",
              "1                          0.1                 0.000000  ...   \n",
              "2                          0.0                 0.117647  ...   \n",
              "3                          0.0                 0.000000  ...   \n",
              "4                          0.1                 0.000000  ...   \n",
              "...                        ...                      ...  ...   \n",
              "20181                      0.0                 0.058824  ...   \n",
              "20182                      0.1                 0.000000  ...   \n",
              "20183                      0.0                 0.058824  ...   \n",
              "20184                      0.1                 0.176471  ...   \n",
              "20185                      0.1                 0.117647  ...   \n",
              "\n",
              "       player_position_1_6.0  player_position_1_7.0  player_position_1_8.0  \\\n",
              "0                          0                      1                      0   \n",
              "1                          0                      0                      0   \n",
              "2                          0                      0                      0   \n",
              "3                          0                      0                      0   \n",
              "4                          0                      0                      0   \n",
              "...                      ...                    ...                    ...   \n",
              "20181                      0                      0                      0   \n",
              "20182                      0                      0                      0   \n",
              "20183                      0                      0                      0   \n",
              "20184                      0                      0                      0   \n",
              "20185                      0                      0                      0   \n",
              "\n",
              "       player_position_1_9.0  player_position_1_nan  winner_draw  \\\n",
              "0                          0                      0            0   \n",
              "1                          0                      0            0   \n",
              "2                          0                      0            0   \n",
              "3                          0                      0            0   \n",
              "4                          0                      0            1   \n",
              "...                      ...                    ...          ...   \n",
              "20181                      0                      1            1   \n",
              "20182                      0                      0            0   \n",
              "20183                      0                      0            0   \n",
              "20184                      0                      0            0   \n",
              "20185                      0                      0            0   \n",
              "\n",
              "       winner_loser  winner_winner  team_team1  team_team2  \n",
              "0                 0              1           1           0  \n",
              "1                 1              0           0           1  \n",
              "2                 1              0           1           0  \n",
              "3                 1              0           0           1  \n",
              "4                 0              0           1           0  \n",
              "...             ...            ...         ...         ...  \n",
              "20181             0              0           0           1  \n",
              "20182             0              1           0           1  \n",
              "20183             1              0           1           0  \n",
              "20184             1              0           1           0  \n",
              "20185             0              1           0           1  \n",
              "\n",
              "[20186 rows x 446 columns]"
            ],
            "text/html": [
              "\n",
              "  <div id=\"df-b210e80b-5067-459f-94e6-6422c3525ed7\">\n",
              "    <div class=\"colab-df-container\">\n",
              "      <div>\n",
              "<style scoped>\n",
              "    .dataframe tbody tr th:only-of-type {\n",
              "        vertical-align: middle;\n",
              "    }\n",
              "\n",
              "    .dataframe tbody tr th {\n",
              "        vertical-align: top;\n",
              "    }\n",
              "\n",
              "    .dataframe thead th {\n",
              "        text-align: right;\n",
              "    }\n",
              "</style>\n",
              "<table border=\"1\" class=\"dataframe\">\n",
              "  <thead>\n",
              "    <tr style=\"text-align: right;\">\n",
              "      <th></th>\n",
              "      <th>rating_num</th>\n",
              "      <th>player_height</th>\n",
              "      <th>player_weight</th>\n",
              "      <th>player_general_var_4</th>\n",
              "      <th>player_defensive_raw_var_4</th>\n",
              "      <th>player_other_raw_var_6</th>\n",
              "      <th>player_offensive_raw_var_31</th>\n",
              "      <th>player_other_raw_var_34</th>\n",
              "      <th>player_other_raw_var_35</th>\n",
              "      <th>player_other_raw_var_38</th>\n",
              "      <th>...</th>\n",
              "      <th>player_position_1_6.0</th>\n",
              "      <th>player_position_1_7.0</th>\n",
              "      <th>player_position_1_8.0</th>\n",
              "      <th>player_position_1_9.0</th>\n",
              "      <th>player_position_1_nan</th>\n",
              "      <th>winner_draw</th>\n",
              "      <th>winner_loser</th>\n",
              "      <th>winner_winner</th>\n",
              "      <th>team_team1</th>\n",
              "      <th>team_team2</th>\n",
              "    </tr>\n",
              "  </thead>\n",
              "  <tbody>\n",
              "    <tr>\n",
              "      <th>0</th>\n",
              "      <td>7.0</td>\n",
              "      <td>0.317073</td>\n",
              "      <td>0.48</td>\n",
              "      <td>0.114754</td>\n",
              "      <td>0.0000</td>\n",
              "      <td>0.467550</td>\n",
              "      <td>0.142857</td>\n",
              "      <td>0.090909</td>\n",
              "      <td>0.0</td>\n",
              "      <td>0.294118</td>\n",
              "      <td>...</td>\n",
              "      <td>0</td>\n",
              "      <td>1</td>\n",
              "      <td>0</td>\n",
              "      <td>0</td>\n",
              "      <td>0</td>\n",
              "      <td>0</td>\n",
              "      <td>0</td>\n",
              "      <td>1</td>\n",
              "      <td>1</td>\n",
              "      <td>0</td>\n",
              "    </tr>\n",
              "    <tr>\n",
              "      <th>1</th>\n",
              "      <td>6.5</td>\n",
              "      <td>0.463415</td>\n",
              "      <td>0.42</td>\n",
              "      <td>0.081967</td>\n",
              "      <td>0.0625</td>\n",
              "      <td>0.436467</td>\n",
              "      <td>0.000000</td>\n",
              "      <td>0.090909</td>\n",
              "      <td>0.1</td>\n",
              "      <td>0.000000</td>\n",
              "      <td>...</td>\n",
              "      <td>0</td>\n",
              "      <td>0</td>\n",
              "      <td>0</td>\n",
              "      <td>0</td>\n",
              "      <td>0</td>\n",
              "      <td>0</td>\n",
              "      <td>1</td>\n",
              "      <td>0</td>\n",
              "      <td>0</td>\n",
              "      <td>1</td>\n",
              "    </tr>\n",
              "    <tr>\n",
              "      <th>2</th>\n",
              "      <td>8.5</td>\n",
              "      <td>0.682927</td>\n",
              "      <td>0.44</td>\n",
              "      <td>0.065574</td>\n",
              "      <td>0.1875</td>\n",
              "      <td>0.631370</td>\n",
              "      <td>0.071429</td>\n",
              "      <td>0.090909</td>\n",
              "      <td>0.0</td>\n",
              "      <td>0.117647</td>\n",
              "      <td>...</td>\n",
              "      <td>0</td>\n",
              "      <td>0</td>\n",
              "      <td>0</td>\n",
              "      <td>0</td>\n",
              "      <td>0</td>\n",
              "      <td>0</td>\n",
              "      <td>1</td>\n",
              "      <td>0</td>\n",
              "      <td>1</td>\n",
              "      <td>0</td>\n",
              "    </tr>\n",
              "    <tr>\n",
              "      <th>3</th>\n",
              "      <td>8.0</td>\n",
              "      <td>0.682927</td>\n",
              "      <td>0.58</td>\n",
              "      <td>0.000000</td>\n",
              "      <td>0.0000</td>\n",
              "      <td>0.467550</td>\n",
              "      <td>0.000000</td>\n",
              "      <td>0.000000</td>\n",
              "      <td>0.0</td>\n",
              "      <td>0.000000</td>\n",
              "      <td>...</td>\n",
              "      <td>0</td>\n",
              "      <td>0</td>\n",
              "      <td>0</td>\n",
              "      <td>0</td>\n",
              "      <td>0</td>\n",
              "      <td>0</td>\n",
              "      <td>1</td>\n",
              "      <td>0</td>\n",
              "      <td>0</td>\n",
              "      <td>1</td>\n",
              "    </tr>\n",
              "    <tr>\n",
              "      <th>4</th>\n",
              "      <td>3.5</td>\n",
              "      <td>0.731707</td>\n",
              "      <td>0.70</td>\n",
              "      <td>0.262295</td>\n",
              "      <td>0.0000</td>\n",
              "      <td>0.467550</td>\n",
              "      <td>0.000000</td>\n",
              "      <td>0.090909</td>\n",
              "      <td>0.1</td>\n",
              "      <td>0.000000</td>\n",
              "      <td>...</td>\n",
              "      <td>0</td>\n",
              "      <td>0</td>\n",
              "      <td>0</td>\n",
              "      <td>0</td>\n",
              "      <td>0</td>\n",
              "      <td>1</td>\n",
              "      <td>0</td>\n",
              "      <td>0</td>\n",
              "      <td>1</td>\n",
              "      <td>0</td>\n",
              "    </tr>\n",
              "    <tr>\n",
              "      <th>...</th>\n",
              "      <td>...</td>\n",
              "      <td>...</td>\n",
              "      <td>...</td>\n",
              "      <td>...</td>\n",
              "      <td>...</td>\n",
              "      <td>...</td>\n",
              "      <td>...</td>\n",
              "      <td>...</td>\n",
              "      <td>...</td>\n",
              "      <td>...</td>\n",
              "      <td>...</td>\n",
              "      <td>...</td>\n",
              "      <td>...</td>\n",
              "      <td>...</td>\n",
              "      <td>...</td>\n",
              "      <td>...</td>\n",
              "      <td>...</td>\n",
              "      <td>...</td>\n",
              "      <td>...</td>\n",
              "      <td>...</td>\n",
              "      <td>...</td>\n",
              "    </tr>\n",
              "    <tr>\n",
              "      <th>20181</th>\n",
              "      <td>5.0</td>\n",
              "      <td>0.439024</td>\n",
              "      <td>0.26</td>\n",
              "      <td>0.049180</td>\n",
              "      <td>0.0000</td>\n",
              "      <td>0.467550</td>\n",
              "      <td>0.071429</td>\n",
              "      <td>0.090909</td>\n",
              "      <td>0.0</td>\n",
              "      <td>0.058824</td>\n",
              "      <td>...</td>\n",
              "      <td>0</td>\n",
              "      <td>0</td>\n",
              "      <td>0</td>\n",
              "      <td>0</td>\n",
              "      <td>1</td>\n",
              "      <td>1</td>\n",
              "      <td>0</td>\n",
              "      <td>0</td>\n",
              "      <td>0</td>\n",
              "      <td>1</td>\n",
              "    </tr>\n",
              "    <tr>\n",
              "      <th>20182</th>\n",
              "      <td>6.0</td>\n",
              "      <td>0.390244</td>\n",
              "      <td>0.32</td>\n",
              "      <td>0.122951</td>\n",
              "      <td>0.0000</td>\n",
              "      <td>0.437765</td>\n",
              "      <td>0.000000</td>\n",
              "      <td>0.181818</td>\n",
              "      <td>0.1</td>\n",
              "      <td>0.000000</td>\n",
              "      <td>...</td>\n",
              "      <td>0</td>\n",
              "      <td>0</td>\n",
              "      <td>0</td>\n",
              "      <td>0</td>\n",
              "      <td>0</td>\n",
              "      <td>0</td>\n",
              "      <td>0</td>\n",
              "      <td>1</td>\n",
              "      <td>0</td>\n",
              "      <td>1</td>\n",
              "    </tr>\n",
              "    <tr>\n",
              "      <th>20183</th>\n",
              "      <td>5.0</td>\n",
              "      <td>0.268293</td>\n",
              "      <td>0.30</td>\n",
              "      <td>0.155738</td>\n",
              "      <td>0.0000</td>\n",
              "      <td>0.521246</td>\n",
              "      <td>0.071429</td>\n",
              "      <td>0.000000</td>\n",
              "      <td>0.0</td>\n",
              "      <td>0.058824</td>\n",
              "      <td>...</td>\n",
              "      <td>0</td>\n",
              "      <td>0</td>\n",
              "      <td>0</td>\n",
              "      <td>0</td>\n",
              "      <td>0</td>\n",
              "      <td>0</td>\n",
              "      <td>1</td>\n",
              "      <td>0</td>\n",
              "      <td>1</td>\n",
              "      <td>0</td>\n",
              "    </tr>\n",
              "    <tr>\n",
              "      <th>20184</th>\n",
              "      <td>6.0</td>\n",
              "      <td>0.463415</td>\n",
              "      <td>0.46</td>\n",
              "      <td>0.229508</td>\n",
              "      <td>0.0000</td>\n",
              "      <td>0.467550</td>\n",
              "      <td>0.071429</td>\n",
              "      <td>0.090909</td>\n",
              "      <td>0.1</td>\n",
              "      <td>0.176471</td>\n",
              "      <td>...</td>\n",
              "      <td>0</td>\n",
              "      <td>0</td>\n",
              "      <td>0</td>\n",
              "      <td>0</td>\n",
              "      <td>0</td>\n",
              "      <td>0</td>\n",
              "      <td>1</td>\n",
              "      <td>0</td>\n",
              "      <td>1</td>\n",
              "      <td>0</td>\n",
              "    </tr>\n",
              "    <tr>\n",
              "      <th>20185</th>\n",
              "      <td>6.0</td>\n",
              "      <td>0.585366</td>\n",
              "      <td>0.36</td>\n",
              "      <td>0.163934</td>\n",
              "      <td>0.0000</td>\n",
              "      <td>0.431616</td>\n",
              "      <td>0.071429</td>\n",
              "      <td>0.090909</td>\n",
              "      <td>0.1</td>\n",
              "      <td>0.117647</td>\n",
              "      <td>...</td>\n",
              "      <td>0</td>\n",
              "      <td>0</td>\n",
              "      <td>0</td>\n",
              "      <td>0</td>\n",
              "      <td>0</td>\n",
              "      <td>0</td>\n",
              "      <td>0</td>\n",
              "      <td>1</td>\n",
              "      <td>0</td>\n",
              "      <td>1</td>\n",
              "    </tr>\n",
              "  </tbody>\n",
              "</table>\n",
              "<p>20186 rows × 446 columns</p>\n",
              "</div>\n",
              "      <button class=\"colab-df-convert\" onclick=\"convertToInteractive('df-b210e80b-5067-459f-94e6-6422c3525ed7')\"\n",
              "              title=\"Convert this dataframe to an interactive table.\"\n",
              "              style=\"display:none;\">\n",
              "        \n",
              "  <svg xmlns=\"http://www.w3.org/2000/svg\" height=\"24px\"viewBox=\"0 0 24 24\"\n",
              "       width=\"24px\">\n",
              "    <path d=\"M0 0h24v24H0V0z\" fill=\"none\"/>\n",
              "    <path d=\"M18.56 5.44l.94 2.06.94-2.06 2.06-.94-2.06-.94-.94-2.06-.94 2.06-2.06.94zm-11 1L8.5 8.5l.94-2.06 2.06-.94-2.06-.94L8.5 2.5l-.94 2.06-2.06.94zm10 10l.94 2.06.94-2.06 2.06-.94-2.06-.94-.94-2.06-.94 2.06-2.06.94z\"/><path d=\"M17.41 7.96l-1.37-1.37c-.4-.4-.92-.59-1.43-.59-.52 0-1.04.2-1.43.59L10.3 9.45l-7.72 7.72c-.78.78-.78 2.05 0 2.83L4 21.41c.39.39.9.59 1.41.59.51 0 1.02-.2 1.41-.59l7.78-7.78 2.81-2.81c.8-.78.8-2.07 0-2.86zM5.41 20L4 18.59l7.72-7.72 1.47 1.35L5.41 20z\"/>\n",
              "  </svg>\n",
              "      </button>\n",
              "      \n",
              "  <style>\n",
              "    .colab-df-container {\n",
              "      display:flex;\n",
              "      flex-wrap:wrap;\n",
              "      gap: 12px;\n",
              "    }\n",
              "\n",
              "    .colab-df-convert {\n",
              "      background-color: #E8F0FE;\n",
              "      border: none;\n",
              "      border-radius: 50%;\n",
              "      cursor: pointer;\n",
              "      display: none;\n",
              "      fill: #1967D2;\n",
              "      height: 32px;\n",
              "      padding: 0 0 0 0;\n",
              "      width: 32px;\n",
              "    }\n",
              "\n",
              "    .colab-df-convert:hover {\n",
              "      background-color: #E2EBFA;\n",
              "      box-shadow: 0px 1px 2px rgba(60, 64, 67, 0.3), 0px 1px 3px 1px rgba(60, 64, 67, 0.15);\n",
              "      fill: #174EA6;\n",
              "    }\n",
              "\n",
              "    [theme=dark] .colab-df-convert {\n",
              "      background-color: #3B4455;\n",
              "      fill: #D2E3FC;\n",
              "    }\n",
              "\n",
              "    [theme=dark] .colab-df-convert:hover {\n",
              "      background-color: #434B5C;\n",
              "      box-shadow: 0px 1px 3px 1px rgba(0, 0, 0, 0.15);\n",
              "      filter: drop-shadow(0px 1px 2px rgba(0, 0, 0, 0.3));\n",
              "      fill: #FFFFFF;\n",
              "    }\n",
              "  </style>\n",
              "\n",
              "      <script>\n",
              "        const buttonEl =\n",
              "          document.querySelector('#df-b210e80b-5067-459f-94e6-6422c3525ed7 button.colab-df-convert');\n",
              "        buttonEl.style.display =\n",
              "          google.colab.kernel.accessAllowed ? 'block' : 'none';\n",
              "\n",
              "        async function convertToInteractive(key) {\n",
              "          const element = document.querySelector('#df-b210e80b-5067-459f-94e6-6422c3525ed7');\n",
              "          const dataTable =\n",
              "            await google.colab.kernel.invokeFunction('convertToInteractive',\n",
              "                                                     [key], {});\n",
              "          if (!dataTable) return;\n",
              "\n",
              "          const docLinkHtml = 'Like what you see? Visit the ' +\n",
              "            '<a target=\"_blank\" href=https://colab.research.google.com/notebooks/data_table.ipynb>data table notebook</a>'\n",
              "            + ' to learn more about interactive tables.';\n",
              "          element.innerHTML = '';\n",
              "          dataTable['output_type'] = 'display_data';\n",
              "          await google.colab.output.renderOutput(dataTable, element);\n",
              "          const docLink = document.createElement('div');\n",
              "          docLink.innerHTML = docLinkHtml;\n",
              "          element.appendChild(docLink);\n",
              "        }\n",
              "      </script>\n",
              "    </div>\n",
              "  </div>\n",
              "  "
            ]
          },
          "metadata": {},
          "execution_count": 65
        }
      ]
    },
    {
      "cell_type": "markdown",
      "source": [
        "Spliting the new table comprising the encoded features"
      ],
      "metadata": {
        "id": "Rmt-yklbAfeP"
      }
    },
    {
      "cell_type": "code",
      "source": [
        "split = StratifiedShuffleSplit(n_splits=1, test_size=0.3, random_state=45)\n",
        "for train_index, test_index in split.split(data2, data2[\"rating_num\"]):\n",
        "    strat_train_set = data2.loc[train_index]\n",
        "    strat_test_set = data2.loc[test_index]\n",
        "\n",
        "y_test = strat_test_set['rating_num']\n",
        "X_test = strat_test_set.drop(['rating_num'], axis=1)\n",
        "\n",
        "y_train = strat_train_set['rating_num']\n",
        "X_train = strat_train_set.drop(['rating_num'], axis=1)"
      ],
      "metadata": {
        "id": "V0COYwWDrTma"
      },
      "execution_count": null,
      "outputs": []
    },
    {
      "cell_type": "markdown",
      "source": [
        "Applying sklearn StandardScaler algorithm to scale the features into having a mean of 0 and variance of 1"
      ],
      "metadata": {
        "id": "Z754_KRnAvF_"
      }
    },
    {
      "cell_type": "code",
      "source": [
        "from sklearn.preprocessing import StandardScaler\n",
        "\n",
        "scaler = StandardScaler()\n",
        "\n",
        "x_train_scaled = scaler.fit_transform(X_train)\n",
        "x_train_scaled\n",
        "\n",
        "x_test_scaled = scaler.fit_transform(X_test)\n",
        "x_test_scaled"
      ],
      "metadata": {
        "colab": {
          "base_uri": "https://localhost:8080/"
        },
        "id": "6bn7DlX3pfrU",
        "outputId": "d3233083-11df-429c-9036-65a56c2db616"
      },
      "execution_count": null,
      "outputs": [
        {
          "output_type": "execute_result",
          "data": {
            "text/plain": [
              "array([[-0.34951471, -1.24554487,  0.4518889 , ...,  1.12801607,\n",
              "         0.97649802, -0.97649802],\n",
              "       [ 1.01090446,  1.1660425 , -1.0757863 , ..., -0.88651219,\n",
              "        -1.02406761,  1.02406761],\n",
              "       [-1.10530313, -0.53625446, -0.24829557, ...,  1.12801607,\n",
              "        -1.02406761,  1.02406761],\n",
              "       ...,\n",
              "       [ 1.6155352 ,  1.44975866,  1.08842023, ..., -0.88651219,\n",
              "        -1.02406761,  1.02406761],\n",
              "       [ 1.31321983,  0.74046826, -0.8848269 , ...,  1.12801607,\n",
              "        -1.02406761,  1.02406761],\n",
              "       [ 0.70858909,  0.31489402,  0.0699701 , ...,  1.12801607,\n",
              "        -1.02406761,  1.02406761]])"
            ]
          },
          "metadata": {},
          "execution_count": 67
        }
      ]
    },
    {
      "cell_type": "code",
      "source": [
        "def lgbm_reg(x_train_scaled,y_train,x_test_scaled,n=10,cv=10,\n",
        "                learning_rate=[0.01,0.05,0.1,0.3,0.5],\n",
        "                max_depth= [2,4,6,8,10,12],\n",
        "                num_leaves= [25,50,100,200],\n",
        "                reg_lambda=[0.8],\n",
        "                reg_alpha=[0.8],\n",
        "                n_estimators=[50,100,200,500,1000],\n",
        "                subsample_freq=[1,2,3,4]):\n",
        "\n",
        "    from sklearn.model_selection import RandomizedSearchCV\n",
        "\n",
        "    import warnings\n",
        "\n",
        "    import lightgbm as lgbm\n",
        "\n",
        "    warnings.filterwarnings('ignore')\n",
        "\n",
        "    from sklearn.pipeline import Pipeline,FeatureUnion\n",
        "    from sklearn.base import BaseEstimator, TransformerMixin\n",
        "\n",
        "    def report(results, n_top=3):\n",
        "        for i in range(1, n_top + 1):\n",
        "            candidates = np.flatnonzero(results['rank_test_score'] == i)\n",
        "            for candidate in candidates:\n",
        "                print(\"Model with rank: {0}\".format(i))\n",
        "                print(\"Mean validation score: {0:.3f} (std: {1:.5f})\".format(\n",
        "                      results['mean_test_score'][candidate],\n",
        "                      results['std_test_score'][candidate]))\n",
        "                print(\"Parameters: {0}\".format(results['params'][candidate]))\n",
        "                print(\"\")\n",
        "\n",
        "\n",
        "    lgbm_params = {\n",
        "                \"learning_rate\":learning_rate,\n",
        "                \"max_depth\":max_depth,\n",
        "                \"num_leaves\":num_leaves,\n",
        "                \"n_estimators\":n_estimators,\n",
        "                \"reg_lambda\":reg_lambda,\n",
        "                \"reg_alpha\":reg_alpha,\n",
        "                \"subsample_freq\":subsample_freq,\n",
        "                #\"metric\":'rmse'\n",
        "             }\n",
        "\n",
        "\n",
        "    lgbm=lgbm.LGBMRegressor()\n",
        "    n_iter=n\n",
        "\n",
        "    random_search=RandomizedSearchCV(lgbm,n_jobs=-1,cv=cv,n_iter=n,scoring='r2',\n",
        "                                 param_distributions=lgbm_params)\n",
        "    random_search.fit(x_train_scaled,y_train)\n",
        "    report(random_search.cv_results_,5)\n",
        "    test_pred= random_search.predict(x_test_scaled)\n",
        "    test_pred=test_pred.reshape(len(test_pred),1)\n",
        "    return(test_pred)"
      ],
      "metadata": {
        "id": "fg48t626sqAc"
      },
      "execution_count": null,
      "outputs": []
    },
    {
      "cell_type": "code",
      "source": [
        "import time\n",
        "start_time = time.time()\n",
        "lgbm_pred = lgbm_reg(x_train_scaled,y_train,\n",
        "                    x_test_scaled,cv=3,n=1,\n",
        "                   n_estimators=[1000],learning_rate=[0.05],\n",
        "                   subsample_freq=[2],num_leaves=[100],\n",
        "                     max_depth=[8],\n",
        "                    )"
      ],
      "metadata": {
        "colab": {
          "base_uri": "https://localhost:8080/"
        },
        "id": "uYuhEkoXvZjG",
        "outputId": "c52db686-8e6a-4748-b96e-63e97b95f89e"
      },
      "execution_count": null,
      "outputs": [
        {
          "output_type": "stream",
          "name": "stdout",
          "text": [
            "Model with rank: 1\n",
            "Mean validation score: 0.320 (std: 0.00498)\n",
            "Parameters: {'subsample_freq': 2, 'reg_lambda': 0.8, 'reg_alpha': 0.8, 'num_leaves': 100, 'n_estimators': 1000, 'max_depth': 8, 'learning_rate': 0.05}\n",
            "\n"
          ]
        }
      ]
    },
    {
      "cell_type": "code",
      "source": [
        "r2= r2_score(y_test, lgbm_pred)\n",
        "print(r2)"
      ],
      "metadata": {
        "colab": {
          "base_uri": "https://localhost:8080/"
        },
        "id": "9Y79c5GBx9oX",
        "outputId": "9392680f-020f-436d-9fcc-494522d34375"
      },
      "execution_count": null,
      "outputs": [
        {
          "output_type": "stream",
          "name": "stdout",
          "text": [
            "0.37624979654447566\n"
          ]
        }
      ]
    },
    {
      "cell_type": "markdown",
      "source": [
        "Gradient Boosting Regressor"
      ],
      "metadata": {
        "id": "-L-C8dZWFwgS"
      }
    },
    {
      "cell_type": "code",
      "source": [
        "from sklearn.ensemble import GradientBoostingRegressor\n",
        "gboost = GradientBoostingRegressor(n_estimators=1000, learning_rate=0.05,\n",
        "                                   max_depth=8, max_features='sqrt',\n",
        "                                   min_samples_leaf=100, min_samples_split=10,\n",
        "                                   loss='huber', random_state =5)\n",
        "gboost.fit(x_train_scaled, y_train)"
      ],
      "metadata": {
        "colab": {
          "base_uri": "https://localhost:8080/"
        },
        "id": "oPC3_lj3a-pY",
        "outputId": "331429b2-f525-48ff-ff9a-c689a6153a06"
      },
      "execution_count": null,
      "outputs": [
        {
          "output_type": "execute_result",
          "data": {
            "text/plain": [
              "GradientBoostingRegressor(learning_rate=0.05, loss='huber', max_depth=8,\n",
              "                          max_features='sqrt', min_samples_leaf=100,\n",
              "                          min_samples_split=10, n_estimators=1000,\n",
              "                          random_state=5)"
            ]
          },
          "metadata": {},
          "execution_count": 75
        }
      ]
    },
    {
      "cell_type": "code",
      "source": [
        "gboost_pred = gboost.predict(x_test_scaled)\n",
        "r2= r2_score(y_test, gboost_pred)\n",
        "print(r2)"
      ],
      "metadata": {
        "colab": {
          "base_uri": "https://localhost:8080/"
        },
        "id": "P-ACn7Y-iakX",
        "outputId": "179e75c3-6edf-4fed-f717-68cc85410697"
      },
      "execution_count": null,
      "outputs": [
        {
          "output_type": "stream",
          "name": "stdout",
          "text": [
            "0.33501464617428733\n"
          ]
        }
      ]
    },
    {
      "cell_type": "code",
      "source": [
        "print('Test data: {0},{1},{2}'.format(min(y_test),max(y_test),y_test.mean()))\n",
        "print('GBoost prediction: {0},{1},{2}'.format(min(gboost_pred),max(gboost_pred),gboost_pred.mean()))\n",
        "print('CatBoost prediction: {0},{1},{2}'.format(min(cat_pred),max(cat_pred),cat_pred.mean()))"
      ],
      "metadata": {
        "id": "e_3anRQviaXZ",
        "colab": {
          "base_uri": "https://localhost:8080/"
        },
        "outputId": "3b7050cf-011e-4ff4-8312-976ba203caa1"
      },
      "execution_count": null,
      "outputs": [
        {
          "output_type": "stream",
          "name": "stdout",
          "text": [
            "Test data: 3.0,10.0,6.974075297225892\n",
            "GBoost prediction: 3.72583418480336,10.29169502100599,6.948845053161713\n",
            "CatBoost prediction: 3.404654153133884,9.980871288398443,6.977685285363421\n"
          ]
        }
      ]
    },
    {
      "cell_type": "code",
      "source": [],
      "metadata": {
        "id": "OckyODcaiZ9b"
      },
      "execution_count": null,
      "outputs": []
    },
    {
      "cell_type": "code",
      "source": [],
      "metadata": {
        "id": "QbaOJxcH0jE3"
      },
      "execution_count": null,
      "outputs": []
    }
  ]
}